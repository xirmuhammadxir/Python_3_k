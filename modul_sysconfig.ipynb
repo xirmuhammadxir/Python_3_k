{
 "cells": [
  {
   "cell_type": "raw",
   "metadata": {},
   "source": [
    "Модуль sysconfig: управление конфигурацией\n",
    "интерпретатора во время компиляции"
   ]
  },
  {
   "cell_type": "raw",
   "metadata": {},
   "source": [
    "Средства, входящие в модуль sysconfig, были перенесены из модуля distutils c целью выделения их в виде независимого модуля.\n",
    "Модуль предоставляет доступ к конфигурации Python информация, такая как список путей установки и переменные конфигурации актуально для текущей платформы.\n",
    "sysconfig помещает все переменные, найденные в этих файлах, в словарь, который можно получить доступ с помощью get_config_vars()или get_config_var()\n"
   ]
  },
  {
   "cell_type": "code",
   "execution_count": null,
   "metadata": {},
   "outputs": [],
   "source": [
    "import sysconfig \n",
    "sysconfig.get_config_vars"
   ]
  },
  {
   "cell_type": "raw",
   "metadata": {},
   "source": [
    "Без аргументов возвращает словарь всех конфигурационных переменных актуально для текущей платформы.\n",
    "С помощью аргументов возвращайте список значений, полученных в результате поиска каждого из них аргумент в\n",
    "словаре конфигурационных переменных.\n",
    "Для каждого аргумента, если значение не найдено, возвращайте None значени"
   ]
  },
  {
   "cell_type": "code",
   "execution_count": null,
   "metadata": {},
   "outputs": [],
   "source": [
    "import sysconfig \n",
    "sysconfig.get_config_var()"
   ]
  },
  {
   "cell_type": "raw",
   "metadata": {},
   "source": [
    "Возвращает значение одного имени переменной. Эквивалентный get_config_vars().get(name).\n",
    "\n",
    "Если имя не найдено, вернитесь None"
   ]
  },
  {
   "cell_type": "raw",
   "metadata": {},
   "source": [
    "Пример использования:\n",
    "\n",
    "> > > > > > > > > импорт sysconfig\n",
    ">>>>>> > > sysconfig.get_config_var('Py_ENABLE_SHARED')\n",
    "0\n",
    ">>>>>> >>> sysconfig.get_config_var('LIBDIR')\n",
    "'/ usr / local/lib'\n",
    ">>>>>> >>> sysconfig.get_config_vars('AR', 'CXX')\n",
    "['ar', ' g++']"
   ]
  },
  {
   "cell_type": "raw",
   "metadata": {},
   "source": [
    "Python использует схему установки, которая отличается в зависимости от платформы и от параметр установки.\n",
    "Эти схемы хранятся в sysconfig под  уникальными идентификаторами, они основанные на значении, возвращаемом пользователем os.name."
   ]
  },
  {
   "cell_type": "code",
   "execution_count": null,
   "metadata": {},
   "outputs": [],
   "source": [
    "Python в настоящее время поддерживает следующие схемы:\n",
    "\n",
    "posix_prefix: схема для платформ Posix, таких как Linux или\n",
    "Mac OS X. схема по умолчанию, используемая при установке Python или компонента.\n",
    "\n",
    "posix_home: схема для платформ Posix, используемая при использовании опции home после инсталляции. \n",
    "Эта схема используется, когда компонент устанавливается через Distutils с определенным домашним префиксом.\n",
    "\n",
    "posix_user: схема для платформ Posix, используемая при установке компонента через Distutils и используется опция user. \n",
    "Эта схема определяет пути находится в домашнем каталоге пользователя.\n",
    "\n",
    "nt: схема для платформ NT, таких как Windows.\n",
    "    \n",
    "nt_user: схема для платформ NT, когда используется опция user."
   ]
  },
  {
   "cell_type": "raw",
   "metadata": {},
   "source": [
    "Каждая схема сама по себе состоит из ряда путей, и каждый путь имеет уникальный идентификатор. \n",
    "Python в настоящее время использует восемь путей:\n",
    "\n",
    "stdlib: каталог, содержащий стандартные файлы библиотеки Python, которые не являются специфика платформы.\n",
    "platstdlib: каталог, содержащий стандартные файлы библиотеки Python, которые являются специфика платформы.\n",
    "platlib: каталог для специфичных для сайта и платформы файлов.\n",
    "purelib: каталог для специфичных для сайта, неплатформенных файлов.\n",
    "включать: каталог для заголовочных файлов, не относящихся к конкретной платформе.\n",
    "platinclude: каталог для специфичных для платформы заголовочных файлов.\n",
    "scripts: каталог для файлов скриптов.\n",
    "data: каталог для файлов данных."
   ]
  },
  {
   "cell_type": "code",
   "execution_count": null,
   "metadata": {},
   "outputs": [],
   "source": [
    "import sysconfig \n",
    "sysconfig.get_scheme_names()"
   ]
  },
  {
   "cell_type": "raw",
   "metadata": {},
   "source": [
    "Возвращает кортеж, содержащий все схемы, поддерживаемые в настоящее время в sysconfig"
   ]
  },
  {
   "cell_type": "code",
   "execution_count": null,
   "metadata": {},
   "outputs": [],
   "source": [
    "import sysconfig \n",
    "sysconfig.get_path_names()"
   ]
  },
  {
   "cell_type": "raw",
   "metadata": {},
   "source": [
    "Возвращает кортеж, содержащий все имена путей, поддерживаемые в настоящее время в sysconfig"
   ]
  },
  {
   "cell_type": "code",
   "execution_count": null,
   "metadata": {},
   "outputs": [],
   "source": [
    "import sysconfig \n",
    "sysconfig.get_path(Имя[, схема[, Вар[, Развернуть]]])"
   ]
  },
  {
   "cell_type": "raw",
   "metadata": {},
   "source": [
    "Возвращает путь установки, соответствующий этому пути имя, от имени установка схемы с именем схема.\n",
    "\n",
    "Имя должно быть значение из списка, возвращаемого get_path_names()."
   ]
  },
  {
   "cell_type": "code",
   "execution_count": null,
   "metadata": {},
   "outputs": [],
   "source": [
    "import sysconfig\n",
    "sysconfig.get_platform()"
   ]
  },
  {
   "cell_type": "raw",
   "metadata": {},
   "source": [
    "Возвращает строку, идентифицирующую текущую платформу."
   ]
  },
  {
   "cell_type": "code",
   "execution_count": null,
   "metadata": {},
   "outputs": [],
   "source": [
    "import sysconfig \n",
    "sysconfig.is_python_build()"
   ]
  },
  {
   "cell_type": "raw",
   "metadata": {},
   "source": [
    "Возврат True если запущенный интерпретатор Python был построен из исходного кода и выполняется из его встроенного местоположения"
   ]
  }
 ],
 "metadata": {
  "kernelspec": {
   "display_name": "Python 3",
   "language": "python",
   "name": "python3"
  },
  "language_info": {
   "codemirror_mode": {
    "name": "ipython",
    "version": 3
   },
   "file_extension": ".py",
   "mimetype": "text/x-python",
   "name": "python",
   "nbconvert_exporter": "python",
   "pygments_lexer": "ipython3",
   "version": "3.8.3"
  }
 },
 "nbformat": 4,
 "nbformat_minor": 4
}
