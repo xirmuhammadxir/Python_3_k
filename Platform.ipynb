{
 "cells": [
  {
   "cell_type": "raw",
   "metadata": {},
   "source": [
    "Модуль:Platform -  ИНФОРМАЦИЯ О ВЕРСИИ СИСТЕМЫ "
   ]
  },
  {
   "cell_type": "raw",
   "metadata": {},
   "source": [
    " Иногда необходимо знать, в какого рода системе выполняется программа. В этой информации нуждаются инструменты автоматизации\n",
    "сборки программного обеспечения, но и приложению может быть известно, что некоторые библиотеки или внешние команды,\n",
    "которые в нем используются, имеют разные интерфейсы в различных операционных системах.\n",
    "Модуль platform включает средства, позволяющие извлекать информацию об интерпретаторе, операционной системе и\n",
    "аппаратной платформе во время выполнения программы"
   ]
  },
  {
   "cell_type": "raw",
   "metadata": {},
   "source": [
    "Функция platform.architecture() запрашивает исполняемый файл executable для получения различной информации об архитектуре.\n",
    "По умолчанию двоичный файл интерпретатора Python"
   ]
  },
  {
   "cell_type": "code",
   "execution_count": 1,
   "metadata": {},
   "outputs": [
    {
     "data": {
      "text/plain": [
       "('64bit', 'WindowsPE')"
      ]
     },
     "execution_count": 1,
     "metadata": {},
     "output_type": "execute_result"
    }
   ],
   "source": [
    "import platform\n",
    "platform.architecture()"
   ]
  },
  {
   "cell_type": "raw",
   "metadata": {},
   "source": [
    "Функция platform.machine() возвращает тип машины, например 'I386'. \n",
    "Если значение не может быть определено, то возвращается пустая строка."
   ]
  },
  {
   "cell_type": "code",
   "execution_count": 2,
   "metadata": {},
   "outputs": [
    {
     "data": {
      "text/plain": [
       "'AMD64'"
      ]
     },
     "execution_count": 2,
     "metadata": {},
     "output_type": "execute_result"
    }
   ],
   "source": [
    "import platform\n",
    "platform.machine()"
   ]
  },
  {
   "cell_type": "raw",
   "metadata": {},
   "source": [
    "Функция platform.node() возвращает сетевое имя компьютера, может быть не полностью! \n",
    "Если значение не может быть определено, то возвращается пустая строка.."
   ]
  },
  {
   "cell_type": "code",
   "execution_count": 3,
   "metadata": {},
   "outputs": [
    {
     "data": {
      "text/plain": [
       "'DESKTOP-GOCMG0R'"
      ]
     },
     "execution_count": 3,
     "metadata": {},
     "output_type": "execute_result"
    }
   ],
   "source": [
    "import platform\n",
    "platform.node()"
   ]
  },
  {
   "cell_type": "raw",
   "metadata": {},
   "source": [
    "Функция platform.platform() возвращает одну строку, идентифицирующую базовую платформу, \n",
    "с максимально возможным количеством полезной информации.\n",
    "\n",
    "Вывод предназначен для чтения человеком, а не для машинного анализа. Это может выглядеть по-разному на разных платформах."
   ]
  },
  {
   "cell_type": "code",
   "execution_count": 4,
   "metadata": {},
   "outputs": [
    {
     "data": {
      "text/plain": [
       "'Windows-10-10.0.18362-SP0'"
      ]
     },
     "execution_count": 4,
     "metadata": {},
     "output_type": "execute_result"
    }
   ],
   "source": [
    "import platform\n",
    "platform.platform()"
   ]
  },
  {
   "cell_type": "raw",
   "metadata": {},
   "source": [
    "Функция platform.processor() возвращает реальное имя процессора, например 'Amdk6'.\n",
    "\n",
    "Возвращается пустая строка, если значение не может быть определено. Обратите внимание, \n",
    "что многие платформы не предоставляют эту информацию или просто возвращают то же значение, что и для platform.machine()."
   ]
  },
  {
   "cell_type": "code",
   "execution_count": 5,
   "metadata": {},
   "outputs": [
    {
     "data": {
      "text/plain": [
       "'Intel64 Family 6 Model 142 Stepping 9, GenuineIntel'"
      ]
     },
     "execution_count": 5,
     "metadata": {},
     "output_type": "execute_result"
    }
   ],
   "source": [
    "import platform\n",
    "platform.processor()"
   ]
  },
  {
   "cell_type": "raw",
   "metadata": {},
   "source": [
    "Функция platform.release() возвращает выпуск системы, например, '2.2.0' или 'NT'. Если значение не может быть определено, то возвращается пустая строка."
   ]
  },
  {
   "cell_type": "code",
   "execution_count": 7,
   "metadata": {},
   "outputs": [
    {
     "data": {
      "text/plain": [
       "'10'"
      ]
     },
     "execution_count": 7,
     "metadata": {},
     "output_type": "execute_result"
    }
   ],
   "source": [
    "import platform\n",
    "platform.release()"
   ]
  },
  {
   "cell_type": "raw",
   "metadata": {},
   "source": [
    "Функция platform.system() возвращает имя операционной системы такое как 'Linux', 'Darwin', 'Java', 'Windows'. \n",
    "Если значение не может быть определено, то возвращается пустая строка."
   ]
  },
  {
   "cell_type": "code",
   "execution_count": 9,
   "metadata": {},
   "outputs": [
    {
     "data": {
      "text/plain": [
       "'Windows'"
      ]
     },
     "execution_count": 9,
     "metadata": {},
     "output_type": "execute_result"
    }
   ],
   "source": [
    "import platform\n",
    "platform.system()"
   ]
  },
  {
   "cell_type": "raw",
   "metadata": {},
   "source": [
    "Функция platform.version() возвращает версию выпуска системы, например '#3 on degas'. Если значение не может быть определено, то возвращается пустая строка."
   ]
  },
  {
   "cell_type": "code",
   "execution_count": 10,
   "metadata": {},
   "outputs": [
    {
     "data": {
      "text/plain": [
       "'10.0.18362'"
      ]
     },
     "execution_count": 10,
     "metadata": {},
     "output_type": "execute_result"
    }
   ],
   "source": [
    "import platform\n",
    "platform.version()"
   ]
  },
  {
   "cell_type": "raw",
   "metadata": {},
   "source": [
    "Функции платформы Unix.\n",
    "Функция platform.libc_ver() пытается определить версию libc, с которой связан исполняемый файл, по умолчанию интерпретатор Python."
   ]
  },
  {
   "cell_type": "code",
   "execution_count": null,
   "metadata": {
    "collapsed": true
   },
   "outputs": [],
   "source": [
    "import platform\n",
    "platform.libc_ver()"
   ]
  },
  {
   "cell_type": "raw",
   "metadata": {},
   "source": [
    "1. Узнать информации о архитектуре\n",
    "2. узнать сетевое имя машины\n",
    "3. узнать выпуск системы \n",
    "4. узнать бозовую платформу "
   ]
  }
 ],
 "metadata": {
  "kernelspec": {
   "display_name": "Python 3",
   "language": "python",
   "name": "python3"
  },
  "language_info": {
   "codemirror_mode": {
    "name": "ipython",
    "version": 3
   },
   "file_extension": ".py",
   "mimetype": "text/x-python",
   "name": "python",
   "nbconvert_exporter": "python",
   "pygments_lexer": "ipython3",
   "version": "3.8.3"
  }
 },
 "nbformat": 4,
 "nbformat_minor": 4
}
