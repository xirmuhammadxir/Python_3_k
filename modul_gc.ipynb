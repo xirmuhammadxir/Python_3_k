{
 "cells": [
  {
   "cell_type": "raw",
   "metadata": {},
   "source": [
    "Модуль gc: сборщик мусора "
   ]
  },
  {
   "cell_type": "raw",
   "metadata": {},
   "source": [
    "Модуль gc предоставляет базовый механизм управления памятью в Python —\n",
    "автоматическую сборку мусора. Он включает функции, позволяющие принудительно вызывать сборщик мусора и исследовать известные системе объекты, которые либо намечены для удаления, либо связаны циклическими ссылками и не\n",
    "могут быть освобождены."
   ]
  },
  {
   "cell_type": "raw",
   "metadata": {},
   "source": [
    "Запускает полную сборку мусора"
   ]
  },
  {
   "cell_type": "code",
   "execution_count": null,
   "metadata": {},
   "outputs": [],
   "source": [
    "import gc \n",
    "gc.collect"
   ]
  },
  {
   "cell_type": "raw",
   "metadata": {},
   "source": [
    "Отключает механизм сборки мусора"
   ]
  },
  {
   "cell_type": "code",
   "execution_count": null,
   "metadata": {},
   "outputs": [],
   "source": [
    "import gc\n",
    "gc.disable()\n"
   ]
  },
  {
   "cell_type": "raw",
   "metadata": {},
   "source": [
    "Включает механизм сборки мусора "
   ]
  },
  {
   "cell_type": "code",
   "execution_count": null,
   "metadata": {},
   "outputs": [],
   "source": [
    "import gc\n",
    "gc.enable()"
   ]
  },
  {
   "cell_type": "raw",
   "metadata": {},
   "source": [
    "Возвращает кортеж (count0, count1, count2) с текущим количеством объектов в каждом поколении"
   ]
  },
  {
   "cell_type": "code",
   "execution_count": null,
   "metadata": {},
   "outputs": [],
   "source": [
    "import gc \n",
    "gc.get_count()"
   ]
  },
  {
   "cell_type": "raw",
   "metadata": {},
   "source": [
    "Возвращает текущие состояния флагов отладки."
   ]
  },
  {
   "cell_type": "code",
   "execution_count": null,
   "metadata": {},
   "outputs": [],
   "source": [
    "import gc \n",
    "gc.get_debug()"
   ]
  },
  {
   "cell_type": "code",
   "execution_count": null,
   "metadata": {},
   "outputs": [],
   "source": [
    "Возвращает список всех объектов, находящихся под контролем сборщика мусора. За исключением возвращаемого списка."
   ]
  },
  {
   "cell_type": "code",
   "execution_count": null,
   "metadata": {},
   "outputs": [],
   "source": [
    "import gc \n",
    "gc.get_objects()\n"
   ]
  },
  {
   "cell_type": "raw",
   "metadata": {},
   "source": [
    "Возвращает кортеж с текущими пороговыми значениями запуска сборщика мусора."
   ]
  },
  {
   "cell_type": "code",
   "execution_count": null,
   "metadata": {},
   "outputs": [],
   "source": [
    "import gc\n",
    "gc.get_threshold()"
   ]
  },
  {
   "cell_type": "raw",
   "metadata": {},
   "source": [
    "Возвращает True, если механизм сборки мусора включен."
   ]
  },
  {
   "cell_type": "code",
   "execution_count": null,
   "metadata": {},
   "outputs": [],
   "source": [
    "import gc \n",
    "gc.isenabled()"
   ]
  },
  {
   "cell_type": "raw",
   "metadata": {},
   "source": [
    "Устанавливает отладочные флаги сборщика мусора, которые могут использоваться для отладки поведения сборщика мусора. В аргументе flags передается целое число, составленное с помощью битовой операции ИЛИ из констант DEBUG_STATS, DEBUG_COLLECTABLE, DEBUG_UNCOLLECTABLE, DEBUG_INSTANCES, DEBUG_OBJECTS, DEBUG_SAVEALL и DEBUG_LEAK. Флаг DEBUG_LEAK является, пожалуй, наиболее полезным, потому что он вынуждает механизм сборщика мусора выводить информацию, которая может пригодиться при отладке программ с утечками памяти."
   ]
  },
  {
   "cell_type": "code",
   "execution_count": null,
   "metadata": {},
   "outputs": [],
   "source": [
    "import gc \n",
    "gc.set_debug(flags)"
   ]
  },
  {
   "cell_type": "raw",
   "metadata": {},
   "source": [
    "Устанавливает частоту запуска сборщика мусора. Объекты распределяются по трем поколениям, где поколение 0 содержит самые молодые объекты, а поколение 2 – самые старые. Объекты, пережившие этап сборки мусора, перемещаются в следующее, более старшее поколение. Достигнув поколения 2, объект остается в нем. В аргументе threshold0 передается число, разность между количеством операций создания новых объектов и количеством операций удаления объектов, по достижении которого запускается сборка мусора среди объектов поколения 0. В аргументе threshold1 передается число, определяющее количество запусков процедуры сборки мусора среди объектов поколения 0, по достижении которого запускается сборка мусора среди объектов поколения 1. В аргументе threshold2 передается число, определяющее количество запусков процедуры сборки мусора среди объектов поколения 1, по достижении которого запускается сборка мусора среди объектов поколения 2. По умолчанию используются пороговые значения (700,10,10). Если в аргументе threshold0 передать значение 0, сборка мусора будет отключена"
   ]
  },
  {
   "cell_type": "code",
   "execution_count": null,
   "metadata": {},
   "outputs": [],
   "source": [
    "import gc \n",
    "gc.set_threshold(threshold0[, threshold1[, threshold2]])"
   ]
  }
 ],
 "metadata": {
  "kernelspec": {
   "display_name": "Python 3",
   "language": "python",
   "name": "python3"
  },
  "language_info": {
   "codemirror_mode": {
    "name": "ipython",
    "version": 3
   },
   "file_extension": ".py",
   "mimetype": "text/x-python",
   "name": "python",
   "nbconvert_exporter": "python",
   "pygments_lexer": "ipython3",
   "version": "3.8.3"
  }
 },
 "nbformat": 4,
 "nbformat_minor": 4
}
