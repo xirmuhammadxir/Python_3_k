{
 "cells": [
  {
   "cell_type": "markdown",
   "metadata": {},
   "source": [
    "<h1>mmap: файлы, отображаемые в памяти</h1>"
   ]
  },
  {
   "cell_type": "markdown",
   "metadata": {},
   "source": [
    "Отображение файлов в памяти обеспечивает прямой доступ к данным, хранящимся в файловой системе, за счет использования виртуальной памяти операционной системы вместо обычных функций ввода-вывода. Такой подход позволяет улучшить производительность операций ввода-вывода, поскольку он не требует выполнения отдельных системных вызовов для каждой попытки доступа или копирования данных между буферами. Вместо этого как ядро, так и пользовательское приложение получают прямой доступ к памяти.\n",
    "В зависимости от конкретных задач файлы, отображаемые в памяти, могут рассматриваться как изменяемые строки или файловые объекты. Отображенный файл поддерживает ожидаемые методы файлового API, такие как close(), flush (), read (), readline (), seek (), tell () и write (). Он также поддерживает строковый API, предоставляющий такие средства, как взятие срезов и методы наподобие find ()."
   ]
  },
  {
   "cell_type": "markdown",
   "metadata": {},
   "source": [
    "Между версиями функции mmap() для Unix и Windows существуют различия в поведении и получаемых аргументах, однако ниже эти различия не обсуждаются в полной мере. Для получения более подробной информации по этому вопросу обратитесь к документации стандартной библиотеки."
   ]
  },
  {
   "cell_type": "markdown",
   "metadata": {},
   "source": [
    "<h2>Чтение</h2>"
   ]
  },
  {
   "cell_type": "markdown",
   "metadata": {},
   "source": [
    "Для создания файлов в памяти предназначена функция mmap (). Ее первым аргументом является дескриптор файла, получаемый c помощью метода fileno () объекта файла или функции os. open (). Ответственность за открытие файла перед вызовом функции mmap () и его закрытие, когда необходимость в нем отпадает, возлагается на вызывающий код.\n",
    "Второй аргумент функции mmap () — размер в байтах той части файла, которая подлежит отображению. Если он равен 0, то отображается весь файл. Если он превышает текущий размер файла, то файл расширяется.\n",
    "<b><em style=\"color:red\">Примечание:</em>\n",
    "Windows не поддерживает создание отображений нулевой длины.</b>"
   ]
  },
  {
   "cell_type": "markdown",
   "metadata": {},
   "source": [
    "Необязательный именованный аргумент access поддерживается обеими платформами. Используйте константу ACCESS_READ для доступа только по чтению, константу ACCESS_WRITE — для доступа по сквозной записи (присваивание значений отображению в памяти записывается непосредственно в файл) и константу ACCESS_COPY — для доступа c правами копирования по записи (присваивание значений отображению в памяти не записывается в файл)."
   ]
  },
  {
   "cell_type": "code",
   "execution_count": 18,
   "metadata": {},
   "outputs": [
    {
     "name": "stdout",
     "output_type": "stream",
     "text": [
      "First 10 bytes via read : b'Lorem ipsu'\n",
      "First 10 bytes via slice: b'Lorem ipsu'\n",
      "2nd   10 bytes via read : b'm dolor si'\n"
     ]
    }
   ],
   "source": [
    "import mmap\n",
    "import os\n",
    "os.chdir('C:\\\\Users\\\\Acer\\\\example_2')\n",
    "with open('lorem.txt', 'r') as f:\n",
    "    with mmap.mmap(f.fileno(), 0,\n",
    "                   access=mmap.ACCESS_READ) as m:\n",
    "        print('First 10 bytes via read :', m.read(10))\n",
    "        print('First 10 bytes via slice:', m[:10])\n",
    "        print('2nd   10 bytes via read :', m.read(10))"
   ]
  },
  {
   "cell_type": "markdown",
   "metadata": {},
   "source": [
    "Указатель файла отслеживает последний байт, к которому осуществлялся доступ посредством операции среза. В данном примере указатель перемещается вперед на 10 байт после первого чтения. Затем он перемещается в начало файла посредством операции среза и вновь перемещается вперед на 10 байт по срезу. После выполнения операции среза повторный вызов метода read () возвращает байты 11-20 файла."
   ]
  },
  {
   "cell_type": "markdown",
   "metadata": {},
   "source": [
    "<h2>Запись</h2>"
   ]
  },
  {
   "cell_type": "markdown",
   "metadata": {},
   "source": [
    "Чтобы настроить получение обновлений для файла, отображаемого в памяти, откройте его для присоединения данных в режиме ’r+’ (а не *w'), прежде чем отображать его. Затем используйте любой из методов API, изменяющих данные (например, метод write (), присваивание срезу).\n",
    "В следующем примере часть строки изменяется на месте c использованием режима доступа по умолчанию ACCESS__WRITE и присваивания срезу."
   ]
  },
  {
   "cell_type": "code",
   "execution_count": 21,
   "metadata": {},
   "outputs": [
    {
     "name": "stdout",
     "output_type": "stream",
     "text": [
      "Looking for    : b'consectetuer'\n",
      "Replacing with : b'reutetcesnoc'\n",
      "Before:\n",
      "b'Lorem ipsum dolor sit amet, consectetuer adipiscing elit.'\n",
      "After :\n",
      "b'Lorem ipsum dolor sit amet, reutetcesnoc adipiscing elit.'\n",
      "File  :\n",
      "Lorem ipsum dolor sit amet, reutetcesnoc adipiscing elit.\n"
     ]
    }
   ],
   "source": [
    "import shutil\n",
    "\n",
    "# Copy the example file\n",
    "shutil.copyfile('lorem.txt', 'lorem_copy.txt')\n",
    "\n",
    "word = b'consectetuer'\n",
    "reversed = word[::-1]\n",
    "print('Looking for    :', word)\n",
    "print('Replacing with :', reversed)\n",
    "\n",
    "with open('lorem_copy.txt', 'r+') as f:\n",
    "    with mmap.mmap(f.fileno(), 0) as m:\n",
    "        print('Before:\\n{}'.format(m.readline().rstrip()))\n",
    "        m.seek(0)  # rewind\n",
    "\n",
    "        loc = m.find(word)\n",
    "        m[loc:loc + len(word)] = reversed\n",
    "        m.flush()\n",
    "\n",
    "        m.seek(0)  # rewind\n",
    "        print('After :\\n{}'.format(m.readline().rstrip()))\n",
    "\n",
    "        f.seek(0)  # rewind\n",
    "        print('File  :\\n{}'.format(f.readline().rstrip()))"
   ]
  },
  {
   "cell_type": "markdown",
   "metadata": {},
   "source": [
    "Слово “consectetuer”, находящееся посреди первой строки, изменяется в памяти и в файле."
   ]
  },
  {
   "cell_type": "markdown",
   "metadata": {},
   "source": [
    "<h2>Режим копирования</h2>\n",
    "В режиме доступа ACCESS_COPY изменения не записываются в файл на диске."
   ]
  },
  {
   "cell_type": "code",
   "execution_count": 25,
   "metadata": {},
   "outputs": [
    {
     "name": "stdout",
     "output_type": "stream",
     "text": [
      "Memory Before:\n",
      "b'Lorem ipsum dolor sit amet, consectetuer adipiscing elit.'\n",
      "File Before  :\n",
      "Lorem ipsum dolor sit amet, consectetuer adipiscing elit.\n",
      "\n",
      "Memory After :\n",
      "b'Lorem ipsum dolor sit amet, reutetcesnoc adipiscing elit.'\n",
      "File After   :\n",
      "Lorem ipsum dolor sit amet, consectetuer adipiscing elit.\n"
     ]
    }
   ],
   "source": [
    "# Copy the example file\n",
    "shutil.copyfile('lorem.txt', 'lorem_copy_2.txt')\n",
    "\n",
    "word = b'consectetuer'\n",
    "reversed = word[::-1]\n",
    "\n",
    "with open('lorem_copy_2.txt', 'r+') as f:\n",
    "    with mmap.mmap(f.fileno(), 0,\n",
    "                   access=mmap.ACCESS_COPY) as m:\n",
    "        print('Memory Before:\\n{}'.format(\n",
    "            m.readline().rstrip()))\n",
    "        print('File Before  :\\n{}\\n'.format(\n",
    "            f.readline().rstrip()))\n",
    "\n",
    "        m.seek(0)  # rewind\n",
    "        loc = m.find(word)\n",
    "        m[loc:loc + len(word)] = reversed\n",
    "\n",
    "        m.seek(0)  # rewind\n",
    "        print('Memory After :\\n{}'.format(\n",
    "            m.readline().rstrip()))\n",
    "\n",
    "        f.seek(0)\n",
    "        print('File After   :\\n{}'.format(\n",
    "            f.readline().rstrip()))"
   ]
  },
  {
   "cell_type": "markdown",
   "metadata": {},
   "source": [
    "В этом примере дескриптор файла нужно было переместить в начало независимо от дескриптора отображения, поскольку внутренние состояния обоих объектов поддерживаются по отдельности."
   ]
  }
 ],
 "metadata": {
  "kernelspec": {
   "display_name": "Python 3",
   "language": "python",
   "name": "python3"
  },
  "language_info": {
   "codemirror_mode": {
    "name": "ipython",
    "version": 3
   },
   "file_extension": ".py",
   "mimetype": "text/x-python",
   "name": "python",
   "nbconvert_exporter": "python",
   "pygments_lexer": "ipython3",
   "version": "3.8.3"
  }
 },
 "nbformat": 4,
 "nbformat_minor": 4
}
