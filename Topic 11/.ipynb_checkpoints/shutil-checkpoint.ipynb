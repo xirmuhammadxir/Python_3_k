{
 "cells": [
  {
   "cell_type": "markdown",
   "metadata": {},
   "source": [
    "<img src=\"https://msg-spb.ru/sites/default/files/preview-event-announcements/49531.png\" style=\"float:middle\" width=\"189\" height=\"255\" border=\"0\"/><h1>Topic №11</h1>\n"
   ]
  },
  {
   "cell_type": "markdown",
   "metadata": {},
   "source": [
    "<a id=\"start\"></a>\n",
    "Содержание:\n",
    "          <nav>\n",
    "        <ul>\n",
    "          <li><a href=\"#shutil\" target=_blank>Модуль shutil</a></li>\n",
    "          <li><a href=\"#filecmp\" target=_blank>Модуль filecmp</a></li>\n",
    "          <li><a href=\"#mmap\" target=_blank>Модуль mmap</a></li>\n",
    "          <li><a href=\"#codecs\" target=_blank>Модуль codecs</a></li>\n",
    "        </ul>\n",
    "      </nav>"
   ]
  },
  {
   "cell_type": "markdown",
   "metadata": {},
   "source": [
    "<a id=\"shutil\"></a><h1>Модуль shutil</h1> \n",
    "Содержит набор функций высокого уровня для обработки файлов, групп файлов, и папок. В частности, доступные здесь функции позволяют копировать, перемещать и удалять файлы и папки. Часто используется вместе с модулем os."
   ]
  },
  {
   "cell_type": "markdown",
   "metadata": {},
   "source": [
    "Метод copy() предназначен для копирования файлов:"
   ]
  },
  {
   "cell_type": "code",
   "execution_count": null,
   "metadata": {},
   "outputs": [],
   "source": [
    "import shutil, os"
   ]
  },
  {
   "cell_type": "code",
   "execution_count": null,
   "metadata": {},
   "outputs": [],
   "source": [
    "os.chdir('C:\\\\Users\\Acer\\example')"
   ]
  },
  {
   "cell_type": "code",
   "execution_count": null,
   "metadata": {},
   "outputs": [],
   "source": [
    "os.listdir()"
   ]
  },
  {
   "cell_type": "code",
   "execution_count": null,
   "metadata": {},
   "outputs": [],
   "source": [
    "shutil.copy('1.jpg','1_copy.jpg')"
   ]
  },
  {
   "cell_type": "code",
   "execution_count": null,
   "metadata": {},
   "outputs": [],
   "source": [
    "os.listdir()"
   ]
  },
  {
   "cell_type": "code",
   "execution_count": null,
   "metadata": {},
   "outputs": [],
   "source": [
    "os.mkdir('images')"
   ]
  },
  {
   "cell_type": "code",
   "execution_count": null,
   "metadata": {},
   "outputs": [],
   "source": [
    "shutil.copy('1_copy.jpg', 'images')"
   ]
  },
  {
   "cell_type": "markdown",
   "metadata": {},
   "source": [
    "Метод copytree() позволяет копировать директории:\n",
    "Некотоыре подробности по работе данного метода:\n",
    "shutil.copytree(src, dst, symlinks=False, ignore=None, copy_function=copy2, ignore_dangling_symlinks=False) - рекурсивно копирует всё дерево директорий с корнем в src, возвращает директорию назначения.\n",
    "\n",
    "Директория dst не должна существовать. Она будет создана, вместе с пропущенными родительскими директориями.\n",
    "\n",
    "Права и времена у директорий копируются copystat(), файлы копируются с помощью функции copy_function (по умолчанию shutil.copy2()).\n",
    "\n",
    "Если symlinks=True, ссылки в дереве src будут ссылками в dst, и метаданные будут скопированы настолько, насколько это возможно.\n",
    "\n",
    "Если False (по умолчанию), будут скопированы содержимое и метаданные файлов, на которые указывали ссылки.\n",
    "\n",
    "Если symlinks=False, если файл, на который указывает ссылка, не существует, будет добавлено исключение в список ошибок, в исключении shutil.Error в конце копирования.\n",
    "\n",
    "Можно установить флаг ignore_dangling_symlinks=True, чтобы скрыть данную ошибку.\n",
    "\n",
    "Если ignore не None, то это должна быть функция, принимающая в качестве аргументов имя директории, в которой сейчас copytree(), и список содержимого, возвращаемый os.listdir(). Т.к. copytree() вызывается рекурсивно, ignore вызывается 1 раз для каждой поддиректории. Она должна возвращать список объектов относительно текущего имени директории (т.е. подмножество элементов во втором аргументе). Эти объекты не будут скопированы."
   ]
  },
  {
   "cell_type": "code",
   "execution_count": null,
   "metadata": {},
   "outputs": [],
   "source": [
    "shutil.copytree('images', 'new-dir')"
   ]
  },
  {
   "cell_type": "code",
   "execution_count": null,
   "metadata": {},
   "outputs": [],
   "source": [
    "os.getcwd()"
   ]
  },
  {
   "cell_type": "markdown",
   "metadata": {},
   "source": [
    "shutil.ignore_patterns(*patterns) - функция, которая создаёт функцию, которая может быть использована в качестве ignore для copytree(), игнорируя файлы и директории, которые соответствуют glob-style шаблонам."
   ]
  },
  {
   "cell_type": "code",
   "execution_count": null,
   "metadata": {},
   "outputs": [],
   "source": [
    "shutil.copytree('smth', 'new-dir_3', ignore=shutil.ignore_patterns('*.docx'))"
   ]
  },
  {
   "cell_type": "code",
   "execution_count": null,
   "metadata": {},
   "outputs": [],
   "source": [
    "os.chdir('new-dir')"
   ]
  },
  {
   "cell_type": "code",
   "execution_count": null,
   "metadata": {},
   "outputs": [],
   "source": [
    "os.listdir()"
   ]
  },
  {
   "cell_type": "markdown",
   "metadata": {},
   "source": [
    "shutil.copyfile(src, dst, follow_symlinks=True) - копирует содержимое (но не метаданные) файла src в файл dst. Возвращает dst (т.е. куда файл был скопирован). src и dst это строки - пути к файлам. dst должен быть полным именем файла.\n",
    "Если src и dst представляют собой один и тот же файл, исключение shutil.SameFileError.\n",
    "Если dst существует, то он будет перезаписан."
   ]
  },
  {
   "cell_type": "markdown",
   "metadata": {},
   "source": [
    "shutil.copymode(src, dst, follow_symlinks=True) - копирует права доступа из src в dst. Содержимое файла, владелец, и группа не меняются."
   ]
  },
  {
   "cell_type": "markdown",
   "metadata": {},
   "source": [
    "shutil.copystat(src, dst, follow_symlinks=True) - копирует права доступа, время последнего доступа, последнего изменения, и флаги src в dst. Содержимое файла, владелец, и группа не меняются."
   ]
  },
  {
   "cell_type": "markdown",
   "metadata": {},
   "source": [
    "shutil.copy2(src, dst, follow_symlinks=True) - как copy(), но пытается копировать все метаданные."
   ]
  },
  {
   "cell_type": "markdown",
   "metadata": {},
   "source": [
    "Метод move() позволяет переместить файл или директорию:"
   ]
  },
  {
   "cell_type": "code",
   "execution_count": null,
   "metadata": {},
   "outputs": [],
   "source": [
    "os.chdir(\"..\")"
   ]
  },
  {
   "cell_type": "code",
   "execution_count": null,
   "metadata": {},
   "outputs": [],
   "source": [
    "os.listdir()"
   ]
  },
  {
   "cell_type": "code",
   "execution_count": null,
   "metadata": {},
   "outputs": [],
   "source": [
    "shutil.move('1_copy.jpg', 'images\\\\new-copy.jpg') # перемещение файла"
   ]
  },
  {
   "cell_type": "code",
   "execution_count": null,
   "metadata": {},
   "outputs": [],
   "source": [
    "shutil.move('images', 'new-dir') # перемещение директории"
   ]
  },
  {
   "cell_type": "code",
   "execution_count": null,
   "metadata": {},
   "outputs": [],
   "source": [
    "shutil.move('1.jpg', 'picture.jpg') # переименование файла"
   ]
  },
  {
   "cell_type": "code",
   "execution_count": null,
   "metadata": {},
   "outputs": [],
   "source": [
    "shutil.move('new-dir', 'old-dir') # переименование директории"
   ]
  },
  {
   "cell_type": "markdown",
   "metadata": {},
   "source": [
    "Метод rmtree() удаляет директорию вместе со всеми поддиректриями и файлами."
   ]
  },
  {
   "cell_type": "code",
   "execution_count": null,
   "metadata": {},
   "outputs": [],
   "source": [
    "shutil.rmtree('old-dir')"
   ]
  },
  {
   "cell_type": "markdown",
   "metadata": {},
   "source": [
    "shutil.disk_usage(path) - возвращает статистику использования дискового пространства как namedtuple с атрибутами total, used и free, в байтах."
   ]
  },
  {
   "cell_type": "markdown",
   "metadata": {},
   "source": [
    "shutil.chown(path, user=None, group=None) - меняет владельца и/или группу у файла или директории."
   ]
  },
  {
   "cell_type": "markdown",
   "metadata": {},
   "source": [
    "<h2 style=\"color:black\">Архивация</h2>"
   ]
  },
  {
   "cell_type": "markdown",
   "metadata": {},
   "source": [
    "Высокоуровневые функции для созданиия и чтения архивированных и сжатых файлов. Основаны на функциях из модулей zipfile и tarfile."
   ]
  },
  {
   "cell_type": "markdown",
   "metadata": {},
   "source": [
    "shutil.make_archive(base_name, format[, root_dir[, base_dir[, verbose[, dry_run[, owner[, group[, logger]]]]]]]) - создаёт архив и возвращает его имя.\n",
    "\n",
    "base_name это имя файла для создания, включая путь, но не включая расширения (не нужно писать \".zip\" и т.д.).\n",
    "\n",
    "format - формат архива.\n",
    "\n",
    "root_dir - директория (относительно текущей), которую мы архивируем.\n",
    "\n",
    "base_dir - директория, в которую будет архивироваться (т.е. все файлы в архиве будут в данной папке).\n",
    "\n",
    "Если dry_run=True, архив не будет создан, но операции, которые должны были быть выполнены, запишутся в logger.\n",
    "\n",
    "owner и group используются при создании tar-архива.\n",
    "\n",
    "shutil.get_archive_formats() - список доступных форматов для архивирования."
   ]
  },
  {
   "cell_type": "code",
   "execution_count": null,
   "metadata": {},
   "outputs": [],
   "source": [
    "shutil.get_archive_formats()"
   ]
  },
  {
   "cell_type": "markdown",
   "metadata": {},
   "source": [
    "shutil.unpack_archive(filename[, extract_dir[, format]]) - распаковывает архив. filename - полный путь к архиву.\n",
    "\n",
    "extract_dir - то, куда будет извлекаться содержимое (по умолчанию в текущую).\n",
    "\n",
    "format - формат архива (по умолчанию пытается угадать по расширению файла).\n",
    "\n",
    "shutil.get_unpack_formats() - список доступных форматов для разархивирования."
   ]
  },
  {
   "cell_type": "markdown",
   "metadata": {},
   "source": [
    "shutil.get_terminal_size(fallback=(columns, lines)) - возвращает размер окна терминала.\n",
    "\n",
    "fallback вернётся, если не удалось узнать размер терминала (терминал не поддерживает такие запросы, или программа работает без терминала). По умолчанию (80, 24)."
   ]
  },
  {
   "cell_type": "code",
   "execution_count": null,
   "metadata": {},
   "outputs": [],
   "source": [
    "shutil.get_terminal_size()"
   ]
  },
  {
   "cell_type": "code",
   "execution_count": null,
   "metadata": {},
   "outputs": [],
   "source": [
    "shutil.get_terminal_size()  # Уменьшили окно"
   ]
  },
  {
   "cell_type": "markdown",
   "metadata": {},
   "source": [
    "<footer> <p><a style=\"font-style:italic\" href=\"#start\">К началу страницы</a><p></footer>"
   ]
  },
  {
   "cell_type": "markdown",
   "metadata": {},
   "source": [
    "________________________________________________________________________________________________________________________"
   ]
  },
  {
   "cell_type": "markdown",
   "metadata": {},
   "source": [
    "<a id=\"filecmp\"></a><h1>Модуль filecmp</h1> Определяет функции для сравнения файлов и каталогов с различными дополнительными\n",
    "компромиссами времени и корректности."
   ]
  },
  {
   "cell_type": "markdown",
   "metadata": {},
   "source": [
    "Для сравнения двух файлов в файловой системе используйте функцию filecmp.cmp().\n",
    "Аргумент shallow сообщает filecmp.cmp(), следует ли просматривать содержимое файла\n",
    "в дополнение к его метаданным. \n",
    "По умолчанию выполняется поверхностное сравнение с использованием информации,\n",
    "если результаты статистики совпадают, файлы считаются одинаковыми."
   ]
  },
  {
   "cell_type": "markdown",
   "metadata": {},
   "source": [
    "import filecmp\n",
    "filecmp.cmp(1, 2, shallow=True) \n",
    "#В виде аргумента функции указывается навзание файла, shallow=True - сравнивать содержимое файлов."
   ]
  },
  {
   "cell_type": "markdown",
   "metadata": {},
   "source": [
    "Чтобы сравнить набор файлов в двух каталогах без рекурсии, используйте функцию filecmp.cmpfiles().\n",
    "Аргументами являются имена каталогов и список файлов для проверки в двух местах. \n",
    "Переданный список общих файлов должен содержать только имена файлов, \n",
    "каталоги всегда приводят к несоответствию, так же файлы должны присутствовать в обоих каталогах"
   ]
  },
  {
   "cell_type": "code",
   "execution_count": null,
   "metadata": {},
   "outputs": [],
   "source": [
    "# Синтаксис\n",
    "import filecmp\n",
    "filecmp.cmpfiles(dir1, dir2, common, shallow=True)"
   ]
  },
  {
   "cell_type": "markdown",
   "metadata": {},
   "source": [
    "Параметры:\n",
    "dir1, dir2 - имена директорий с общими файлами,\n",
    "common - список имен сравниваемых файлов,\n",
    "shallow=True - сравнивать содержимое файлов.\n",
    "\n",
    "Возвращаемое значение:\n",
    "кортеж из трех списков имен файлов (match, mismatch, errors)\n",
    "\n",
    "Описание:\n",
    "Функция cmpfiles() модуля filecmp сравнивает файлы в двух каталогах dir1 и dir2, список имен которых переданы аргументу common.\n",
    "\n",
    "Возвращает кортеж из трех списков имен файлов (match, mismatch, errors):\n",
    "\n",
    "список \"match\" содержит список файлов, которые совпадают,\n",
    "список \"mismatch\" содержит имена тех, которые не совпадают,\n",
    "список \"errors\" содержат имена файлов, которые нельзя сравнивать.\n",
    "Параметр shallow имеет то же значение и значение по умолчанию, что и для функции filecmp.cmp()."
   ]
  },
  {
   "cell_type": "markdown",
   "metadata": {},
   "source": [
    "Для рекурсивного сравнения больших деревьев каталогов или для более полного анализа используйте \n",
    "класс filecmp.dircmp(). В простейшем случае метод экземпляра класса dircmp.report() \n",
    "печатает отчет сравнения двух каталогов. Вывод представляет собой простой текстовый отчет,\n",
    "показывающий результаты только содержимого заданных каталогов без рекурсии. "
   ]
  },
  {
   "cell_type": "code",
   "execution_count": null,
   "metadata": {},
   "outputs": [],
   "source": [
    "#Синтаксис:\n",
    "import filecmp\n",
    "\n",
    "dc = filecmp.dircmp(a, b, ignore=None, hide=None)"
   ]
  },
  {
   "cell_type": "markdown",
   "metadata": {},
   "source": [
    "Параметры:\n",
    "a, b - имена каталогов,\n",
    "ignore=None - список имен игнорируемых файлов,\n",
    "hide=None - список имен скрываемых файлов.\n",
    "Описание:\n",
    "Класс dircmp() модуля filecmp возвращает новый объект сравнения каталогов a и b.\n",
    "\n",
    "Аргумент ignore-это список имен, которые нужно игнорировать, по умолчанию это filecmp.DEFAULT_IGNORES.\n",
    "Аргумент hide-это список имен, которые нужно скрыть, по умолчанию используется [os.curdir, os.pardir]\n",
    "Класс filecmp.dircmp() сравнивает файлы, выполняя поверхностные сравнения, как описано в функции \n",
    "filecmp.cmp()."
   ]
  },
  {
   "cell_type": "markdown",
   "metadata": {},
   "source": [
    "<footer> <p><a style=\"font-style:italic\" href=\"#start\">К началу страницы</a><p></footer>"
   ]
  },
  {
   "cell_type": "markdown",
   "metadata": {},
   "source": [
    "___________________________________________________________________________________________________________________________"
   ]
  },
  {
   "cell_type": "markdown",
   "metadata": {},
   "source": [
    "<a id=\"mmap\"></a><h1>mmap: файлы, отображаемые в памяти</h1>"
   ]
  },
  {
   "cell_type": "markdown",
   "metadata": {},
   "source": [
    "Отображение файлов в памяти обеспечивает прямой доступ к данным, хранящимся в файловой системе, за счет использования виртуальной памяти операционной системы вместо обычных функций ввода-вывода. Такой подход позволяет улучшить производительность операций ввода-вывода, поскольку он не требует выполнения отдельных системных вызовов для каждой попытки доступа или копирования данных между буферами. Вместо этого как ядро, так и пользовательское приложение получают прямой доступ к памяти.\n",
    "В зависимости от конкретных задач файлы, отображаемые в памяти, могут рассматриваться как изменяемые строки или файловые объекты. Отображенный файл поддерживает ожидаемые методы файлового API, такие как close(), flush (), read (), readline (), seek (), tell () и write (). Он также поддерживает строковый API, предоставляющий такие средства, как взятие срезов и методы наподобие find ()."
   ]
  },
  {
   "cell_type": "markdown",
   "metadata": {},
   "source": [
    "Между версиями функции mmap() для Unix и Windows существуют различия в поведении и получаемых аргументах, однако ниже эти различия не обсуждаются в полной мере. Для получения более подробной информации по этому вопросу обратитесь к документации стандартной библиотеки."
   ]
  },
  {
   "cell_type": "markdown",
   "metadata": {},
   "source": [
    "<h2>Чтение</h2>"
   ]
  },
  {
   "cell_type": "markdown",
   "metadata": {},
   "source": [
    "Для создания файлов в памяти предназначена функция mmap (). Ее первым аргументом является дескриптор файла, получаемый c помощью метода fileno () объекта файла или функции os. open (). Ответственность за открытие файла перед вызовом функции mmap () и его закрытие, когда необходимость в нем отпадает, возлагается на вызывающий код.\n",
    "Второй аргумент функции mmap () — размер в байтах той части файла, которая подлежит отображению. Если он равен 0, то отображается весь файл. Если он превышает текущий размер файла, то файл расширяется.\n",
    "<b><em style=\"color:red\">Примечание:</em>\n",
    "Windows не поддерживает создание отображений нулевой длины.</b>"
   ]
  },
  {
   "cell_type": "markdown",
   "metadata": {},
   "source": [
    "Необязательный именованный аргумент access поддерживается обеими платформами. Используйте константу ACCESS_READ для доступа только по чтению, константу ACCESS_WRITE — для доступа по сквозной записи (присваивание значений отображению в памяти записывается непосредственно в файл) и константу ACCESS_COPY — для доступа c правами копирования по записи (присваивание значений отображению в памяти не записывается в файл)."
   ]
  },
  {
   "cell_type": "code",
   "execution_count": null,
   "metadata": {},
   "outputs": [],
   "source": [
    "import mmap\n",
    "import os\n",
    "os.chdir('C:\\\\Users\\\\Acer\\\\example_2')\n",
    "with open('lorem.txt', 'r') as f:\n",
    "    with mmap.mmap(f.fileno(), 0,\n",
    "                   access=mmap.ACCESS_READ) as m:\n",
    "        print('First 10 bytes via read :', m.read(10))\n",
    "        print('First 10 bytes via slice:', m[:10])\n",
    "        print('2nd   10 bytes via read :', m.read(10))"
   ]
  },
  {
   "cell_type": "markdown",
   "metadata": {},
   "source": [
    "Указатель файла отслеживает последний байт, к которому осуществлялся доступ посредством операции среза. В данном примере указатель перемещается вперед на 10 байт после первого чтения. Затем он перемещается в начало файла посредством операции среза и вновь перемещается вперед на 10 байт по срезу. После выполнения операции среза повторный вызов метода read () возвращает байты 11-20 файла."
   ]
  },
  {
   "cell_type": "markdown",
   "metadata": {},
   "source": [
    "<h2>Запись</h2>"
   ]
  },
  {
   "cell_type": "markdown",
   "metadata": {},
   "source": [
    "Чтобы настроить получение обновлений для файла, отображаемого в памяти, откройте его для присоединения данных в режиме ’r+’ (а не *w'), прежде чем отображать его. Затем используйте любой из методов API, изменяющих данные (например, метод write (), присваивание срезу).\n",
    "В следующем примере часть строки изменяется на месте c использованием режима доступа по умолчанию ACCESS__WRITE и присваивания срезу."
   ]
  },
  {
   "cell_type": "code",
   "execution_count": null,
   "metadata": {},
   "outputs": [],
   "source": [
    "import shutil\n",
    "\n",
    "# Copy the example file\n",
    "shutil.copyfile('lorem.txt', 'lorem_copy.txt')\n",
    "\n",
    "word = b'consectetuer'\n",
    "reversed = word[::-1]\n",
    "print('Looking for    :', word)\n",
    "print('Replacing with :', reversed)\n",
    "\n",
    "with open('lorem_copy.txt', 'r+') as f:\n",
    "    with mmap.mmap(f.fileno(), 0) as m:\n",
    "        print('Before:\\n{}'.format(m.readline().rstrip()))\n",
    "        m.seek(0)  # rewind\n",
    "\n",
    "        loc = m.find(word)\n",
    "        m[loc:loc + len(word)] = reversed\n",
    "        m.flush()\n",
    "\n",
    "        m.seek(0)  # rewind\n",
    "        print('After :\\n{}'.format(m.readline().rstrip()))\n",
    "\n",
    "        f.seek(0)  # rewind\n",
    "        print('File  :\\n{}'.format(f.readline().rstrip()))"
   ]
  },
  {
   "cell_type": "markdown",
   "metadata": {},
   "source": [
    "Слово “consectetuer”, находящееся посреди первой строки, изменяется в памяти и в файле."
   ]
  },
  {
   "cell_type": "markdown",
   "metadata": {},
   "source": [
    "<h2>Режим копирования</h2>\n",
    "В режиме доступа ACCESS_COPY изменения не записываются в файл на диске."
   ]
  },
  {
   "cell_type": "code",
   "execution_count": null,
   "metadata": {},
   "outputs": [],
   "source": [
    "# Copy the example file\n",
    "shutil.copyfile('lorem.txt', 'lorem_copy_2.txt')\n",
    "\n",
    "word = b'consectetuer'\n",
    "reversed = word[::-1]\n",
    "\n",
    "with open('lorem_copy_2.txt', 'r+') as f:\n",
    "    with mmap.mmap(f.fileno(), 0,\n",
    "                   access=mmap.ACCESS_COPY) as m:\n",
    "        print('Memory Before:\\n{}'.format(\n",
    "            m.readline().rstrip()))\n",
    "        print('File Before  :\\n{}\\n'.format(\n",
    "            f.readline().rstrip()))\n",
    "\n",
    "        m.seek(0)  # rewind\n",
    "        loc = m.find(word)\n",
    "        m[loc:loc + len(word)] = reversed\n",
    "\n",
    "        m.seek(0)  # rewind\n",
    "        print('Memory After :\\n{}'.format(\n",
    "            m.readline().rstrip()))\n",
    "\n",
    "        f.seek(0)\n",
    "        print('File After   :\\n{}'.format(\n",
    "            f.readline().rstrip()))"
   ]
  },
  {
   "cell_type": "markdown",
   "metadata": {},
   "source": [
    "В этом примере дескриптор файла нужно было переместить в начало независимо от дескриптора отображения, поскольку внутренние состояния обоих объектов поддерживаются по отдельности."
   ]
  },
  {
   "cell_type": "markdown",
   "metadata": {},
   "source": [
    "<footer> <p><a style=\"font-style:italic\" href=\"#start\">К началу страницы</a><p></footer>"
   ]
  },
  {
   "cell_type": "markdown",
   "metadata": {},
   "source": [
    "___________________________________________________________________________________________________________________________"
   ]
  },
  {
   "cell_type": "markdown",
   "metadata": {},
   "source": [
    "<a id=\"codecs\"></a><h1>codecs: кодирование и декодирование строк</h1>"
   ]
  },
  {
   "cell_type": "markdown",
   "metadata": {},
   "source": [
    "Модуль codecs предоставляет потоковый и файловый интерфейсы для перекодировки текстовых данных между различными представлениями. Чаще всего его используют для работы c текстом в представлении Unicode, но доступны так-\n",
    "же другие кодировки, используемые для других целей."
   ]
  },
  {
   "cell_type": "markdown",
   "metadata": {},
   "source": [
    "<h2>Реестр кодеков и базовые классы</h2>"
   ]
  },
  {
   "cell_type": "markdown",
   "metadata": {},
   "source": [
    "Модуль codecs определяет базовые классы для стандартных кодеков Python (кодировщик и декодировщик) и предоставляет доступ к внутреннему реестру кодеков Python, который управляет процессом поиска кодека и обработки ошибок.\n",
    "\n",
    "Большинство стандартных кодеков - это текстовые кодировки, которые кодируют текст в байты, но есть также кодеки, которые кодируют текст в текст и байты в байты. В Python уже имеется большое количество стандартных кодеков и маловероятно, что приложению потребуется определять собственный кодировщик или декодировщик. Но иногда необходимо сделать свой кодек, для этих целей модуль codecs, предоставляет несколько базовых классов, чтобы упростить процесс.\n",
    "\n",
    "Допустим надо сделать кодек, который будет инвертировать заглавные буквы в строчные, а строчные - в заглавные. Можно пойти простым путем и определить функцию кодирования, которая будет выполнять это преобразование для входной строки"
   ]
  },
  {
   "cell_type": "code",
   "execution_count": null,
   "metadata": {},
   "outputs": [],
   "source": [
    "import string\n",
    "\n",
    "def invert(text):\n",
    "    \"\"\"Возвращает новую строку с преобразованными \n",
    "       заглавными буквами в строчные, а строчные - в заглавные\n",
    "    \"\"\"\n",
    "    return ''.join(\n",
    "        c.upper() if c in string.ascii_lowercase\n",
    "        else c.lower() if c in string.ascii_uppercase\n",
    "        else c\n",
    "        for c in text\n",
    "    )"
   ]
  },
  {
   "cell_type": "code",
   "execution_count": null,
   "metadata": {},
   "outputs": [],
   "source": [
    "invert('Hello World')"
   ]
  },
  {
   "cell_type": "code",
   "execution_count": null,
   "metadata": {},
   "outputs": [],
   "source": [
    "invert('hELLO wORLD')"
   ]
  },
  {
   "cell_type": "markdown",
   "metadata": {},
   "source": [
    "Такая реализация неэффективна, особенно для очень больших текстовых строк. Модуль codecs включает в себя некоторые вспомогательные функции для создания кодеков, основанных на карте символов. Карта символов состоит из двух словарей. Карта преобразует символьные значения из входной строки в байтовые значения на выходе, а карта декодирования - в обратном направлении. Сначала создадим карту декодирования, а затем с помощью функции make_encoding_map() преобразуйте ее в карту кодирования."
   ]
  },
  {
   "cell_type": "code",
   "execution_count": null,
   "metadata": {},
   "outputs": [],
   "source": [
    "import codecs\n",
    "\n",
    "# сопоставить символы самим себе\n",
    "decoding_map = codecs.make_identity_dict(range(256))\n",
    "\n",
    "# список пар порядковых номеров соответствий\n",
    "# строчной букв - заглавной\n",
    "pairs = list(zip(\n",
    "    [ord(c) for c in string.ascii_lowercase],\n",
    "    [ord(c) for c in string.ascii_uppercase],\n",
    "))\n",
    "\n",
    "# теперь изменим карту 'decoding_map' так чтобы номера \n",
    "# строчных букв соответствовали заглавной и наоборот\n",
    "decoding_map.update({\n",
    "    upper: lower\n",
    "    for (lower, upper)\n",
    "    in pairs\n",
    "})\n",
    "decoding_map.update({\n",
    "    lower: upper\n",
    "    for (lower, upper)\n",
    "    in pairs\n",
    "})\n",
    "\n",
    "# Создадим отдельную карту кодирования \n",
    "encoding_map = codecs.make_encoding_map(decoding_map)"
   ]
  },
  {
   "cell_type": "code",
   "execution_count": null,
   "metadata": {},
   "outputs": [],
   "source": [
    "codecs.charmap_encode('Hello World', 'strict', encoding_map)"
   ]
  },
  {
   "cell_type": "code",
   "execution_count": null,
   "metadata": {},
   "outputs": [],
   "source": [
    "codecs.charmap_encode('hELLO wORLD', 'strict', decoding_map)"
   ]
  },
  {
   "cell_type": "markdown",
   "metadata": {},
   "source": [
    "В данном случае карты кодирования и декодирования символов одинаковы, это может быть не всегда так. Функция make_encoding_map() обнаруживает ситуации, когда более одного входного символа кодируется в один и тот же выходной байт и заменяет значение кодирования на None, чтобы пометить кодировку как неопределенную.\n",
    "\n",
    "Созданные карты символов кодирования и декодирования поддерживают все стандартные обработчики ошибок, поэтому для соответствия этой части API не требуется никакой дополнительной работы.\n",
    "\n",
    "Для создания полноценного кодека необходимо установить несколько дополнительных классов и зарегистрировать кодировщик и декодировщик. Функция codecs.register() добавляет функцию поиска в реестр кодеков, чтобы ее можно было найти. Функция поиска должна принимать один строковый аргумент с именем кодировки и возвращать объект codecs.CodecInfo(), если кодировка найдена или None если нет.\n",
    "\n",
    "Экземпляр CodecInfo, возвращаемый функцией поиска, сообщает кодекам, как кодировать и декодировать, используя все различные поддерживаемые механизмы: кодирование и декодирование без сохранения состояния, инкрементное кодирование и декодирование и потоковое кодирование и декодирование."
   ]
  },
  {
   "cell_type": "code",
   "execution_count": null,
   "metadata": {},
   "outputs": [],
   "source": [
    "class InvertCodec(codecs.Codec):\n",
    "    \"кодирование/декодирование без сохранения состояния\"\n",
    "\n",
    "    def encode(self, input, errors='strict'):\n",
    "        return codecs.charmap_encode(input, errors, encoding_map)\n",
    "\n",
    "    def decode(self, input, errors='strict'):\n",
    "        return codecs.charmap_decode(input, errors, decoding_map)\n",
    "\n",
    "class InvertIncrementalEncoder(codecs.IncrementalEncoder):\n",
    "    def encode(self, input, final=False):\n",
    "        data, nbytes = codecs.charmap_encode(input,\n",
    "                                             self.errors, encoding_map)\n",
    "        return data\n",
    "\n",
    "class InvertIncrementalDecoder(codecs.IncrementalDecoder):\n",
    "    def decode(self, input, final=False):\n",
    "        data, nbytes = codecs.charmap_decode(input,\n",
    "                                             self.errors, decoding_map)\n",
    "        return data\n",
    "\n",
    "class InvertStreamReader(InvertCodec, codecs.StreamReader):\n",
    "    pass\n",
    "\n",
    "class InvertStreamWriter(InvertCodec, codecs.StreamWriter):\n",
    "    pass\n",
    "\n",
    "\n",
    "def find_invert(encoding):\n",
    "    \"\"\"Return the codec for 'invert'.\n",
    "    \"\"\"\n",
    "    if encoding == 'invert':\n",
    "        return codecs.CodecInfo(\n",
    "            name='invert',\n",
    "            encode=InvertCodec().encode,\n",
    "            decode=InvertCodec().decode,\n",
    "            incrementalencoder=InvertIncrementalEncoder,\n",
    "            incrementaldecoder=InvertIncrementalDecoder,\n",
    "            streamreader=InvertStreamReader,\n",
    "            streamwriter=InvertStreamWriter,\n",
    "        )\n",
    "    return None\n",
    "\n",
    "codecs.register(find_invert)"
   ]
  },
  {
   "cell_type": "markdown",
   "metadata": {},
   "source": [
    "Для кодирования/декодирования без сохранения состояния переопределяем Codec.encode() и Codec.decode() с новой реализацией, вызывая функции charmap_encode() и charmap_decode() соответственно. Каждый метод должен возвращать кортеж, содержащий преобразованные данные и количество использованных входных байтов или символов.\n",
    "\n",
    "IncrementalEncoder и IncrementalDecoder служат в качестве базовых классов для дополнительных интерфейсов. Методы encode() и decode() инкрементных классов определены таким образом, что они возвращают только фактические преобразованные данные. Любая информация о буферизации сохраняется как внутреннее состояние. Созданный кодек invert не требует буферизации данных, т.к. использует взаимно однозначное отображение.\n",
    "\n",
    "[StreamReader и StreamWriter] также нуждаются в методах encode() и decode () т. к. они должны возвращать то же значение, что и версия из кодека, для реализации может использоваться множественное наследование."
   ]
  },
  {
   "cell_type": "code",
   "execution_count": null,
   "metadata": {},
   "outputs": [],
   "source": [
    "encoder = codecs.getencoder('invert')\n",
    "text = 'Hello Word'\n",
    "encoded_text, consumed = encoder(text)\n",
    "print('Encoded \"{}\" to \"{}\", consuming {} characters'.format(\n",
    "    text, encoded_text, consumed))"
   ]
  },
  {
   "cell_type": "code",
   "execution_count": null,
   "metadata": {},
   "outputs": [],
   "source": [
    "import io\n",
    "buffer = io.BytesIO()\n",
    "writer = codecs.getwriter('invert')(buffer)\n",
    "print('StreamWriter for io buffer: ')\n",
    "print('  writing \"abcDEF\"')\n",
    "writer.write('abcDEF')\n",
    "print('  buffer contents: ', buffer.getvalue())"
   ]
  },
  {
   "cell_type": "code",
   "execution_count": null,
   "metadata": {},
   "outputs": [],
   "source": [
    "decoder_factory = codecs.getincrementaldecoder('invert')\n",
    "decoder = decoder_factory()\n",
    "decoded_text_parts = []\n",
    "for c in encoded_text:\n",
    "    decoded_text_parts.append(\n",
    "        decoder.decode(bytes([c]), final=False)\n",
    "    )\n",
    "decoded_text_parts.append(decoder.decode(b'', final=True))\n",
    "decoded_text = ''.join(decoded_text_parts)\n",
    "print('IncrementalDecoder converted {!r} to {!r}'.format(\n",
    "    encoded_text, decoded_text))"
   ]
  },
  {
   "cell_type": "markdown",
   "metadata": {},
   "source": [
    "<footer> <p><a style=\"font-style:italic\" href=\"#start\">К началу страницы</a><p></footer>"
   ]
  },
  {
   "cell_type": "markdown",
   "metadata": {},
   "source": [
    "<h3 style = \"color:red\">Задания:</h3>\n",
    "<ol>\n",
    "          <li>Метод shutil</li>\n",
    "            <ul class=\"list1\">\n",
    "              <li>Скопируйте файл в другую папку</li>\n",
    "              <li>Скопируйте директорию в другую папку, игнорируя все файлы, кроме *.docs,val*.*</li>\n",
    "              <li>Удалите диреткорию</li>\n",
    "            </ul>\n",
    "          <li>Модуль filecmp</li>\n",
    "          <ul class=\"list2\">\n",
    "            <li>-</li>\n",
    "          </ul>\n",
    "          <li>Модуль mmap</li>\n",
    "          <ul class=\"list1\">\n",
    "            <li>Осуществите доступ к файлу посредством операции среза</li>\n",
    "            <li>Измените документ, с использованием модуля shutil</li>\n",
    "          </ul>\n",
    "           <li>Модуль codecs</li>\n",
    "            <ul class=\"lis\">\n",
    "            <li>Сделать кодек, который будет инвертировать заглавные буквы в цифру \"1\", а строчные - в \"2\".</li>\n",
    "</ol>"
   ]
  }
 ],
 "metadata": {
  "kernelspec": {
   "display_name": "Python 3",
   "language": "python",
   "name": "python3"
  },
  "language_info": {
   "codemirror_mode": {
    "name": "ipython",
    "version": 3
   },
   "file_extension": ".py",
   "mimetype": "text/x-python",
   "name": "python",
   "nbconvert_exporter": "python",
   "pygments_lexer": "ipython3",
   "version": "3.8.3"
  }
 },
 "nbformat": 4,
 "nbformat_minor": 4
}
