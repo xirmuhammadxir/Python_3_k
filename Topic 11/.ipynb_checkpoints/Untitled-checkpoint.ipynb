{
 "cells": [
  {
   "cell_type": "markdown",
   "metadata": {},
   "source": [
    "<h1>codecs: кодирование и декодирование строк</h1>"
   ]
  },
  {
   "cell_type": "markdown",
   "metadata": {},
   "source": [
    "Модуль codecs предоставляет потоковый и файловый интерфейсы для перекодировки текстовых данных между различными представлениями. Чаще всего его используют для работы c текстом в представлении Unicode, но доступны так-\n",
    "же другие кодировки, используемые для других целей."
   ]
  },
  {
   "cell_type": "markdown",
   "metadata": {},
   "source": [
    "<h2>Реестр кодеков и базовые классы</h2>"
   ]
  },
  {
   "cell_type": "markdown",
   "metadata": {},
   "source": [
    "Модуль codecs определяет базовые классы для стандартных кодеков Python (кодировщик и декодировщик) и предоставляет доступ к внутреннему реестру кодеков Python, который управляет процессом поиска кодека и обработки ошибок.\n",
    "\n",
    "Большинство стандартных кодеков - это текстовые кодировки, которые кодируют текст в байты, но есть также кодеки, которые кодируют текст в текст и байты в байты. В Python уже имеется большое количество стандартных кодеков и маловероятно, что приложению потребуется определять собственный кодировщик или декодировщик. Но иногда необходимо сделать свой кодек, для этих целей модуль codecs, предоставляет несколько базовых классов, чтобы упростить процесс.\n",
    "\n",
    "Допустим надо сделать кодек, который будет инвертировать заглавные буквы в строчные, а строчные - в заглавные. Можно пойти простым путем и определить функцию кодирования, которая будет выполнять это преобразование для входной строки"
   ]
  },
  {
   "cell_type": "code",
   "execution_count": 2,
   "metadata": {},
   "outputs": [],
   "source": [
    "import string\n",
    "\n",
    "def invert(text):\n",
    "    \"\"\"Возвращает новую строку с преобразованными \n",
    "       заглавными буквами в строчные, а строчные - в заглавные\n",
    "    \"\"\"\n",
    "    return ''.join(\n",
    "        c.upper() if c in string.ascii_lowercase\n",
    "        else c.lower() if c in string.ascii_uppercase\n",
    "        else c\n",
    "        for c in text\n",
    "    )"
   ]
  },
  {
   "cell_type": "code",
   "execution_count": 3,
   "metadata": {},
   "outputs": [
    {
     "data": {
      "text/plain": [
       "'hELLO wORLD'"
      ]
     },
     "execution_count": 3,
     "metadata": {},
     "output_type": "execute_result"
    }
   ],
   "source": [
    "invert('Hello World')"
   ]
  },
  {
   "cell_type": "code",
   "execution_count": 4,
   "metadata": {},
   "outputs": [
    {
     "data": {
      "text/plain": [
       "'Hello World'"
      ]
     },
     "execution_count": 4,
     "metadata": {},
     "output_type": "execute_result"
    }
   ],
   "source": [
    "invert('hELLO wORLD')"
   ]
  },
  {
   "cell_type": "markdown",
   "metadata": {},
   "source": [
    "Такая реализация неэффективна, особенно для очень больших текстовых строк. Модуль codecs включает в себя некоторые вспомогательные функции для создания кодеков, основанных на карте символов. Карта символов состоит из двух словарей. Карта преобразует символьные значения из входной строки в байтовые значения на выходе, а карта декодирования - в обратном направлении. Сначала создадим карту декодирования, а затем с помощью функции make_encoding_map() преобразуйте ее в карту кодирования."
   ]
  },
  {
   "cell_type": "code",
   "execution_count": 10,
   "metadata": {},
   "outputs": [],
   "source": [
    "import codecs\n",
    "\n",
    "# сопоставить символы самим себе\n",
    "decoding_map = codecs.make_identity_dict(range(256))\n",
    "\n",
    "# список пар порядковых номеров соответствий\n",
    "# строчной букв - заглавной\n",
    "pairs = list(zip(\n",
    "    [ord(c) for c in string.ascii_lowercase],\n",
    "    [ord(c) for c in string.ascii_uppercase],\n",
    "))\n",
    "\n",
    "# теперь изменим карту 'decoding_map' так чтобы номера \n",
    "# строчных букв соответствовали заглавной и наоборот\n",
    "decoding_map.update({\n",
    "    upper: lower\n",
    "    for (lower, upper)\n",
    "    in pairs\n",
    "})\n",
    "decoding_map.update({\n",
    "    lower: upper\n",
    "    for (lower, upper)\n",
    "    in pairs\n",
    "})\n",
    "\n",
    "# Создадим отдельную карту кодирования \n",
    "encoding_map = codecs.make_encoding_map(decoding_map)\n"
   ]
  },
  {
   "cell_type": "code",
   "execution_count": 11,
   "metadata": {},
   "outputs": [
    {
     "data": {
      "text/plain": [
       "(b'hELLO wORLD', 11)"
      ]
     },
     "execution_count": 11,
     "metadata": {},
     "output_type": "execute_result"
    }
   ],
   "source": [
    "codecs.charmap_encode('Hello World', 'strict', encoding_map)"
   ]
  },
  {
   "cell_type": "code",
   "execution_count": 15,
   "metadata": {},
   "outputs": [
    {
     "data": {
      "text/plain": [
       "(b'Hello World', 11)"
      ]
     },
     "execution_count": 15,
     "metadata": {},
     "output_type": "execute_result"
    }
   ],
   "source": [
    "codecs.charmap_encode('hELLO wORLD', 'strict', decoding_map)"
   ]
  },
  {
   "cell_type": "markdown",
   "metadata": {},
   "source": [
    "В данном случае карты кодирования и декодирования символов одинаковы, это может быть не всегда так. Функция make_encoding_map() обнаруживает ситуации, когда более одного входного символа кодируется в один и тот же выходной байт и заменяет значение кодирования на None, чтобы пометить кодировку как неопределенную.\n",
    "\n",
    "Созданные карты символов кодирования и декодирования поддерживают все стандартные обработчики ошибок, поэтому для соответствия этой части API не требуется никакой дополнительной работы.\n",
    "\n",
    "Для создания полноценного кодека необходимо установить несколько дополнительных классов и зарегистрировать кодировщик и декодировщик. Функция codecs.register() добавляет функцию поиска в реестр кодеков, чтобы ее можно было найти. Функция поиска должна принимать один строковый аргумент с именем кодировки и возвращать объект codecs.CodecInfo(), если кодировка найдена или None если нет.\n",
    "\n",
    "Экземпляр CodecInfo, возвращаемый функцией поиска, сообщает кодекам, как кодировать и декодировать, используя все различные поддерживаемые механизмы: кодирование и декодирование без сохранения состояния, инкрементное кодирование и декодирование и потоковое кодирование и декодирование."
   ]
  },
  {
   "cell_type": "code",
   "execution_count": 19,
   "metadata": {},
   "outputs": [],
   "source": [
    "class InvertCodec(codecs.Codec):\n",
    "    \"кодирование/декодирование без сохранения состояния\"\n",
    "\n",
    "    def encode(self, input, errors='strict'):\n",
    "        return codecs.charmap_encode(input, errors, encoding_map)\n",
    "\n",
    "    def decode(self, input, errors='strict'):\n",
    "        return codecs.charmap_decode(input, errors, decoding_map)\n",
    "\n",
    "class InvertIncrementalEncoder(codecs.IncrementalEncoder):\n",
    "    def encode(self, input, final=False):\n",
    "        data, nbytes = codecs.charmap_encode(input,\n",
    "                                             self.errors, encoding_map)\n",
    "        return data\n",
    "\n",
    "class InvertIncrementalDecoder(codecs.IncrementalDecoder):\n",
    "    def decode(self, input, final=False):\n",
    "        data, nbytes = codecs.charmap_decode(input,\n",
    "                                             self.errors, decoding_map)\n",
    "        return data\n",
    "\n",
    "class InvertStreamReader(InvertCodec, codecs.StreamReader):\n",
    "    pass\n",
    "\n",
    "class InvertStreamWriter(InvertCodec, codecs.StreamWriter):\n",
    "    pass\n",
    "\n",
    "\n",
    "def find_invert(encoding):\n",
    "    \"\"\"Return the codec for 'invert'.\n",
    "    \"\"\"\n",
    "    if encoding == 'invert':\n",
    "        return codecs.CodecInfo(\n",
    "            name='invert',\n",
    "            encode=InvertCodec().encode,\n",
    "            decode=InvertCodec().decode,\n",
    "            incrementalencoder=InvertIncrementalEncoder,\n",
    "            incrementaldecoder=InvertIncrementalDecoder,\n",
    "            streamreader=InvertStreamReader,\n",
    "            streamwriter=InvertStreamWriter,\n",
    "        )\n",
    "    return None\n",
    "\n",
    "codecs.register(find_invert)"
   ]
  },
  {
   "cell_type": "markdown",
   "metadata": {},
   "source": [
    "Для кодирования/декодирования без сохранения состояния переопределяем Codec.encode() и Codec.decode() с новой реализацией, вызывая функции charmap_encode() и charmap_decode() соответственно. Каждый метод должен возвращать кортеж, содержащий преобразованные данные и количество использованных входных байтов или символов.\n",
    "\n",
    "IncrementalEncoder и IncrementalDecoder служат в качестве базовых классов для дополнительных интерфейсов. Методы encode() и decode() инкрементных классов определены таким образом, что они возвращают только фактические преобразованные данные. Любая информация о буферизации сохраняется как внутреннее состояние. Созданный кодек invert не требует буферизации данных, т.к. использует взаимно однозначное отображение.\n",
    "\n",
    "[StreamReader и StreamWriter][] также нуждаются в методах encode() и decode () т. к. они должны возвращать то же значение, что и версия из кодека, для реализации может использоваться множественное наследование."
   ]
  },
  {
   "cell_type": "code",
   "execution_count": 20,
   "metadata": {},
   "outputs": [
    {
     "name": "stdout",
     "output_type": "stream",
     "text": [
      "Encoded \"Hello Word\" to \"b'hELLO wORD'\", consuming 10 characters\n"
     ]
    }
   ],
   "source": [
    "encoder = codecs.getencoder('invert')\n",
    "text = 'Hello Word'\n",
    "encoded_text, consumed = encoder(text)\n",
    "print('Encoded \"{}\" to \"{}\", consuming {} characters'.format(\n",
    "    text, encoded_text, consumed))"
   ]
  },
  {
   "cell_type": "code",
   "execution_count": 21,
   "metadata": {},
   "outputs": [
    {
     "name": "stdout",
     "output_type": "stream",
     "text": [
      "StreamWriter for io buffer: \n",
      "  writing \"abcDEF\"\n",
      "  buffer contents:  b'ABCdef'\n"
     ]
    }
   ],
   "source": [
    "import io\n",
    "buffer = io.BytesIO()\n",
    "writer = codecs.getwriter('invert')(buffer)\n",
    "print('StreamWriter for io buffer: ')\n",
    "print('  writing \"abcDEF\"')\n",
    "writer.write('abcDEF')\n",
    "print('  buffer contents: ', buffer.getvalue())"
   ]
  },
  {
   "cell_type": "code",
   "execution_count": 23,
   "metadata": {},
   "outputs": [
    {
     "name": "stdout",
     "output_type": "stream",
     "text": [
      "IncrementalDecoder converted b'hELLO wORD' to 'Hello Word'\n"
     ]
    }
   ],
   "source": [
    "decoder_factory = codecs.getincrementaldecoder('invert')\n",
    "decoder = decoder_factory()\n",
    "decoded_text_parts = []\n",
    "for c in encoded_text:\n",
    "    decoded_text_parts.append(\n",
    "        decoder.decode(bytes([c]), final=False)\n",
    "    )\n",
    "decoded_text_parts.append(decoder.decode(b'', final=True))\n",
    "decoded_text = ''.join(decoded_text_parts)\n",
    "print('IncrementalDecoder converted {!r} to {!r}'.format(\n",
    "    encoded_text, decoded_text))"
   ]
  },
  {
   "cell_type": "code",
   "execution_count": null,
   "metadata": {},
   "outputs": [],
   "source": []
  }
 ],
 "metadata": {
  "kernelspec": {
   "display_name": "Python 3",
   "language": "python",
   "name": "python3"
  },
  "language_info": {
   "codemirror_mode": {
    "name": "ipython",
    "version": 3
   },
   "file_extension": ".py",
   "mimetype": "text/x-python",
   "name": "python",
   "nbconvert_exporter": "python",
   "pygments_lexer": "ipython3",
   "version": "3.8.3"
  }
 },
 "nbformat": 4,
 "nbformat_minor": 4
}
