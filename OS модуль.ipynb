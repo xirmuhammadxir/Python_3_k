{
 "cells": [
  {
   "cell_type": "markdown",
   "metadata": {},
   "source": [
    "Модуль Os предназначен для взаимодействия программы с ОС, в частности, для управления файлами. Иногда нужно автоматизирвоать какие-то дейтствия с файлами, например, создать автоматический установщик и тд. Вариантов применения работы с файлами масса, но мы рассмотрим только основные команды модуля. \n",
    "Прежде всего, импортируем модуль для работы с ним. "
   ]
  },
  {
   "cell_type": "code",
   "execution_count": 2,
   "metadata": {},
   "outputs": [],
   "source": [
    "import os"
   ]
  },
  {
   "cell_type": "markdown",
   "metadata": {},
   "source": [
    "Удаление файла"
   ]
  },
  {
   "cell_type": "code",
   "execution_count": 3,
   "metadata": {},
   "outputs": [],
   "source": [
    "if(os.path.exists('C:/Users/Acer/Desktop/delete.txt')):\n",
    "    os.remove('C:/Users/Acer/Desktop/delete.txt')"
   ]
  },
  {
   "cell_type": "markdown",
   "metadata": {},
   "source": [
    "Создание папки"
   ]
  },
  {
   "cell_type": "code",
   "execution_count": 4,
   "metadata": {},
   "outputs": [],
   "source": [
    "os.makedirs('C:/Users/Acer/Desktop/delete',exist_ok=True)"
   ]
  },
  {
   "cell_type": "markdown",
   "metadata": {},
   "source": [
    "Открытие файла"
   ]
  },
  {
   "cell_type": "code",
   "execution_count": 5,
   "metadata": {},
   "outputs": [],
   "source": [
    "if(os.path.exists('C:/Users/Acer/Desktop/study')):\n",
    "    os.startfile(r'C:/Users/Acer/Desktop/study')"
   ]
  },
  {
   "cell_type": "markdown",
   "metadata": {},
   "source": [
    "Перемещаем и переименовываем файл"
   ]
  },
  {
   "cell_type": "code",
   "execution_count": 6,
   "metadata": {},
   "outputs": [],
   "source": [
    "if(os.path.exists('C:/Users/Acer/Desktop/delete.txt')):\n",
    "    os.replace('C:/Users/Acer/Desktop/delete.txt', 'C:/Users/Acer/Desktop/delete/delete2.txt')"
   ]
  },
  {
   "cell_type": "markdown",
   "metadata": {},
   "source": [
    "Узнаём какая ОС установлена (nt - windows):"
   ]
  },
  {
   "cell_type": "code",
   "execution_count": 7,
   "metadata": {},
   "outputs": [
    {
     "data": {
      "text/plain": [
       "'Ваша операционная система: nt'"
      ]
     },
     "execution_count": 7,
     "metadata": {},
     "output_type": "execute_result"
    }
   ],
   "source": [
    "'Ваша операционная система: ' + os.name"
   ]
  },
  {
   "cell_type": "markdown",
   "metadata": {},
   "source": [
    "Узнаём пути до системных папок - список переменных окружения. Это такие спец.переменные, в которых хранятся пути до системных папок. "
   ]
  },
  {
   "cell_type": "code",
   "execution_count": 8,
   "metadata": {},
   "outputs": [
    {
     "data": {
      "text/plain": [
       "environ{'ALLUSERSPROFILE': 'C:\\\\ProgramData',\n",
       "        'APPDATA': 'C:\\\\Users\\\\Acer\\\\AppData\\\\Roaming',\n",
       "        'COMMONPROGRAMFILES': 'C:\\\\Program Files\\\\Common Files',\n",
       "        'COMMONPROGRAMFILES(X86)': 'C:\\\\Program Files (x86)\\\\Common Files',\n",
       "        'COMMONPROGRAMW6432': 'C:\\\\Program Files\\\\Common Files',\n",
       "        'COMPUTERNAME': 'LAPTOP-1LUMA0NP',\n",
       "        'COMSPEC': 'C:\\\\Windows\\\\system32\\\\cmd.exe',\n",
       "        'DOCKER_TOOLBOX_INSTALL_PATH': 'C:\\\\Program Files\\\\Docker Toolbox',\n",
       "        'DRIVERDATA': 'C:\\\\Windows\\\\System32\\\\Drivers\\\\DriverData',\n",
       "        'HOMEDRIVE': 'C:',\n",
       "        'HOMEPATH': '\\\\Users\\\\Acer',\n",
       "        'LOCALAPPDATA': 'C:\\\\Users\\\\Acer\\\\AppData\\\\Local',\n",
       "        'LOGONSERVER': '\\\\\\\\LAPTOP-1LUMA0NP',\n",
       "        'NUMBER_OF_PROCESSORS': '8',\n",
       "        'ONEDRIVE': 'C:\\\\Users\\\\Acer\\\\OneDrive',\n",
       "        'OS': 'Windows_NT',\n",
       "        'PATH': 'D:\\\\Anaconda;D:\\\\Anaconda\\\\Library\\\\mingw-w64\\\\bin;D:\\\\Anaconda\\\\Library\\\\usr\\\\bin;D:\\\\Anaconda\\\\Library\\\\bin;D:\\\\Anaconda\\\\Scripts;C:\\\\Windows\\\\system32;C:\\\\Windows;C:\\\\Windows\\\\System32\\\\Wbem;C:\\\\Windows\\\\System32\\\\WindowsPowerShell\\\\v1.0\\\\;C:\\\\Windows\\\\System32\\\\OpenSSH\\\\;C:\\\\Program Files\\\\Git\\\\cmd;C:\\\\Users\\\\Acer\\\\AppData\\\\Local\\\\Microsoft\\\\WindowsApps;C:\\\\Program Files\\\\Docker Toolbox;C:\\\\Program Files\\\\Docker Toolbox;C:\\\\Program Files\\\\Docker Toolbox;C:\\\\Program Files\\\\Docker Toolbox;C:\\\\Users\\\\Acer\\\\AppData\\\\Local\\\\atom\\\\bin',\n",
       "        'PATHEXT': '.COM;.EXE;.BAT;.CMD;.VBS;.VBE;.JS;.JSE;.WSF;.WSH;.MSC',\n",
       "        'PROCESSOR_ARCHITECTURE': 'AMD64',\n",
       "        'PROCESSOR_IDENTIFIER': 'AMD64 Family 23 Model 24 Stepping 1, AuthenticAMD',\n",
       "        'PROCESSOR_LEVEL': '23',\n",
       "        'PROCESSOR_REVISION': '1801',\n",
       "        'PROGRAMDATA': 'C:\\\\ProgramData',\n",
       "        'PROGRAMFILES': 'C:\\\\Program Files',\n",
       "        'PROGRAMFILES(X86)': 'C:\\\\Program Files (x86)',\n",
       "        'PROGRAMW6432': 'C:\\\\Program Files',\n",
       "        'PSMODULEPATH': 'C:\\\\Program Files\\\\WindowsPowerShell\\\\Modules;C:\\\\Windows\\\\system32\\\\WindowsPowerShell\\\\v1.0\\\\Modules',\n",
       "        'PUBLIC': 'C:\\\\Users\\\\Public',\n",
       "        'SESSIONNAME': 'Console',\n",
       "        'SYSTEMDRIVE': 'C:',\n",
       "        'SYSTEMROOT': 'C:\\\\Windows',\n",
       "        'TEMP': 'C:\\\\Users\\\\Acer\\\\AppData\\\\Local\\\\Temp',\n",
       "        'TMP': 'C:\\\\Users\\\\Acer\\\\AppData\\\\Local\\\\Temp',\n",
       "        'USERDOMAIN': 'LAPTOP-1LUMA0NP',\n",
       "        'USERDOMAIN_ROAMINGPROFILE': 'LAPTOP-1LUMA0NP',\n",
       "        'USERNAME': 'Acer',\n",
       "        'USERPROFILE': 'C:\\\\Users\\\\Acer',\n",
       "        'VBOX_MSI_INSTALL_PATH': 'C:\\\\Program Files\\\\Oracle\\\\VirtualBox\\\\',\n",
       "        'WINDIR': 'C:\\\\Windows',\n",
       "        '__COMPAT_LAYER': 'DetectorsMessageBoxErrors',\n",
       "        'CONDA_PREFIX': 'D:\\\\Anaconda',\n",
       "        'KERNEL_LAUNCH_TIMEOUT': '40',\n",
       "        'JPY_INTERRUPT_EVENT': '2368',\n",
       "        'IPY_INTERRUPT_EVENT': '2368',\n",
       "        'JPY_PARENT_PID': '2344',\n",
       "        'TERM': 'xterm-color',\n",
       "        'CLICOLOR': '1',\n",
       "        'PAGER': 'cat',\n",
       "        'GIT_PAGER': 'cat',\n",
       "        'MPLBACKEND': 'module://ipykernel.pylab.backend_inline'}"
      ]
     },
     "execution_count": 8,
     "metadata": {},
     "output_type": "execute_result"
    }
   ],
   "source": [
    "os.environ"
   ]
  },
  {
   "cell_type": "markdown",
   "metadata": {},
   "source": [
    "Получаем список файлов и папок в указанной папке:\n"
   ]
  },
  {
   "cell_type": "code",
   "execution_count": 9,
   "metadata": {},
   "outputs": [
    {
     "data": {
      "text/plain": [
       "['C++',\n",
       " 'English',\n",
       " 'KT21.xlsx',\n",
       " 'KT22.xlsx',\n",
       " 'kurs35907.docx',\n",
       " 'unnamed0.graphml',\n",
       " 'зиокд',\n",
       " 'ОУД',\n",
       " 'Сети',\n",
       " 'Характеристика на студента.docx',\n",
       " 'Хирамагомедов_Курсовая_итог.docx']"
      ]
     },
     "execution_count": 9,
     "metadata": {},
     "output_type": "execute_result"
    }
   ],
   "source": [
    "os.listdir('C:/Users/Acer/Desktop/Study')"
   ]
  },
  {
   "cell_type": "markdown",
   "metadata": {},
   "source": [
    "os.walk()\n",
    "Метод os.walk() дает нам возможность для итерации на корневом уровне пути. Это значит, что мы можем назначить путь к этой функции и получить доступ ко всем её подкаталогам и файлам."
   ]
  },
  {
   "cell_type": "code",
   "execution_count": 10,
   "metadata": {},
   "outputs": [
    {
     "name": "stdout",
     "output_type": "stream",
     "text": [
      "C:/Users/Acer/Desktop/Study\n",
      "C:/Users/Acer/Desktop/Study\\C++\n",
      "C:/Users/Acer/Desktop/Study\\C++\\Асхаб\n",
      "C:/Users/Acer/Desktop/Study\\C++\\Классы динамических структур\n",
      "C:/Users/Acer/Desktop/Study\\C++\\Курсовая\n",
      "C:/Users/Acer/Desktop/Study\\C++\\Наследование классов\n",
      "C:/Users/Acer/Desktop/Study\\C++\\Шаблоны\n",
      "C:/Users/Acer/Desktop/Study\\English\n",
      "C:/Users/Acer/Desktop/Study\\English\\Топики для экз\n",
      "C:/Users/Acer/Desktop/Study\\зиокд\n",
      "C:/Users/Acer/Desktop/Study\\ОУД\n",
      "C:/Users/Acer/Desktop/Study\\Сети\n"
     ]
    }
   ],
   "source": [
    "path = r'C:/Users/Acer/Desktop/Study'\n",
    " \n",
    "for root, dirs, files in os.walk(path):\n",
    "    print(root)"
   ]
  },
  {
   "cell_type": "markdown",
   "metadata": {},
   "source": [
    "Мы можем отобразить и весь список каталогов и файлов."
   ]
  },
  {
   "cell_type": "code",
   "execution_count": 11,
   "metadata": {},
   "outputs": [
    {
     "name": "stdout",
     "output_type": "stream",
     "text": [
      "C:/Users/Acer/Desktop/Study\n",
      "C++\n",
      "English\n",
      "зиокд\n",
      "ОУД\n",
      "Сети\n",
      "KT21.xlsx\n",
      "KT22.xlsx\n",
      "kurs35907.docx\n",
      "unnamed0.graphml\n",
      "Характеристика на студента.docx\n",
      "Хирамагомедов_Курсовая_итог.docx\n",
      "C:/Users/Acer/Desktop/Study\\C++\n",
      "Асхаб\n",
      "Классы динамических структур\n",
      "Курсовая\n",
      "Наследование классов\n",
      "Шаблоны\n",
      "C++ Конструктор копирования.doc\n",
      "Cred_ar_dvumerny_massiv.txt\n",
      "dia-0-97-2-es-en-win.exe\n",
      "Otvety_na_ekzamenatsionnyye_voprosy_1.docx\n",
      "Otvety_na_ekzamenatsionnyye_voprosy_2.docx\n",
      "Otvety_na_ekzamenatsionnyye_voprosy_3.docx\n",
      "Варианты 1802 (1).xlsx\n",
      "Варианты 1802.xlsx\n",
      "Введение ООП.pptx\n",
      "Задачи к экзамену.docx\n",
      "ООП тема 3.pptx\n",
      "ООП тема 6.pptx\n",
      "ПЗ 1.doc\n",
      "ТМиПр.pptx\n",
      "Хирамагомедов Магомед Магомедович с++(вне класса).doc\n",
      "Хирамагомедов Магомед Магомедович с++.doc\n",
      "C:/Users/Acer/Desktop/Study\\C++\\Асхаб\n",
      "Задание простое наследование_Магамаев.docx\n",
      "Иерархическое_наследование_Магамаев.docx\n",
      "Класс.docx\n",
      "Магамаев.graphml\n",
      "Магамаев_ИБ-1802 с++(вне класса).doc\n",
      "Магамаев_Курсовая.docx\n",
      "Шаблоны_Магамев.docx\n",
      "C:/Users/Acer/Desktop/Study\\C++\\Классы динамических структур\n",
      "Класс в классе.docx\n",
      "Классы динамических структур.pptx\n",
      "C:/Users/Acer/Desktop/Study\\C++\\Курсовая\n",
      "tit.pdf\n",
      "багужалова 406 группа.docx\n",
      "Варианты 1802.xlsx\n",
      "Курсовая Кашликов.docx\n",
      "МУкКР_ТехнМетПрогр_10.03.01.doc\n",
      "Приложения к Положению о структуре и оформлении письменных работ-1.docx\n",
      "Хирамагомедов_Курсовая.docx\n",
      "Хирамагомедов_Курсовая_итог.docx\n",
      "C:/Users/Acer/Desktop/Study\\C++\\Наследование классов\n",
      "Задание просто наследование_Х_М_М.docx\n",
      "Задания наследование иерархические цепочки (1).docx\n",
      "Задания Простое наследование.docx\n",
      "Иерархическое_наследование_Хирамагомедов_М_М.docx\n",
      "ООП тема 7.pptx\n",
      "C:/Users/Acer/Desktop/Study\\C++\\Шаблоны\n",
      "Задания шаблоны.docx\n",
      "ООп тема 8.pptx\n",
      "Шаблоны_Х_М_М.docx\n",
      "C:/Users/Acer/Desktop/Study\\English\n",
      "Топики для экз\n",
      "02._sipapina_zh._yu._oz._organizatsiya_meditsinskoy_pomoshchi_detyam._13.01.17._referat.pdf\n",
      "HW.pdf\n",
      "КТ2.pdf\n",
      "Темы ИБ (2 курс).doc\n",
      "Топик Head-to-Head.docx\n",
      "Топик How to survive in business competition.docx\n",
      "шкала ИБ (2 курс).doc\n",
      "C:/Users/Acer/Desktop/Study\\English\\Топики для экз\n",
      "Avoiding gender discrimination at work.doc\n",
      "How to acquire leadership skills.doc\n",
      "LEADERShip personality.doc\n",
      "The process of employment in the digital world..docx\n",
      "What good negotiators know.docx\n",
      "Топик Head-to-Head.docx\n",
      "Топик How to survive in business competition.docx\n",
      "C:/Users/Acer/Desktop/Study\\зиокд\n",
      "ZIOKD.pdf\n",
      "C:/Users/Acer/Desktop/Study\\ОУД\n",
      "SkyNet.docx\n",
      "Процессы_2.pdf\n",
      "C:/Users/Acer/Desktop/Study\\Сети\n",
      "Bilety_SSPI_old.docx\n",
      "vse_lektsii.docx\n",
      "Беспроводные соединения.pdf\n",
      "вопросы.docx\n",
      "Компьютерные сети.pdf\n",
      "Краткая история развития электросвязи.pdf\n",
      "ЛЕКЦИЯ 1 ОБЩИЕ ПОЛОЖЕНИЯ.pdf\n",
      "ЛЕКЦИЯ 2 ПРЕОБРАЗОВАНИЕ РЕЧЕВОЙ ИНФОРМАЦИИ.pdf\n",
      "ЛЕКЦИЯ 3 СРЕДА ПЕРЕДАЧИ ДАННЫХ.pdf\n",
      "ЛЕКЦИЯ 4 ПРИНЦИПЫ ПЕРЕДАЧИ СООБЩЕНИЙ.pdf\n",
      "ЛЕКЦИЯ 5 ТЕХНОЛОГИЯ ПОСТРОЕНИЯ ПЕРВИЧНОЙ СЕТИ.pdf\n",
      "ЛЕКЦИЯ 6 ОСНОВНЫЕ ПОНЯТИЯ ТЕОРИИ ТЕЛЕТРАФИКА.pdf\n",
      "ЛЕКЦИЯ 7 ОСНОВНЫЕ ХАРАКТЕРИСТИКИ СИСТЕМ ЭЛЕКТРОСВЯЗИ.pdf\n",
      "ЛЕКЦИЯ 8 БЕСПРОВОДНЫЕ СОЕДИНЕНИЯ.pdf\n",
      "ЛЕКЦИЯ 9 КОМПЬЮТЕРНЫЕ СЕТИ.pdf\n",
      "Основные понятия теории телетрафика.pdf\n",
      "Основные термины. Организации по стандартизации.pdf\n",
      "ОСНОВНЫЕ ХАРАКТЕРИСТИКИ СИСТЕМ ЭЛЕКТРОСВЯЗИ.pdf\n",
      "ПРЕОБРАЗОВАНИЕ РЕЧЕВОЙ ИНФОРМАЦИИ.pdf\n",
      "Принципы передачи сообщений.pdf\n",
      "Среда передачи данных.pdf\n",
      "Технология построения превичной сети.pdf\n"
     ]
    }
   ],
   "source": [
    "for root, dirs, files in os.walk(path):\n",
    "    print(root)\n",
    "    for _dir in dirs:\n",
    "        print(_dir)\n",
    " \n",
    "    for _file in files:\n",
    "        print(_file)"
   ]
  },
  {
   "cell_type": "markdown",
   "metadata": {},
   "source": [
    "os.path\n",
    "Подмодуль os.path модуля os имеет широкий ряд встроенных преимуществ. Ознакомимся со следующими функциями:\n",
    "\n",
    "basename\n",
    "dirname\n",
    "exists\n",
    "isdir and isfile\n",
    "join\n",
    "split\n",
    "Это не все функции подмодуля."
   ]
  },
  {
   "cell_type": "markdown",
   "metadata": {},
   "source": [
    "os.path.basename\n",
    "Функция basename вернет название файла пути. Пример:"
   ]
  },
  {
   "cell_type": "code",
   "execution_count": 12,
   "metadata": {},
   "outputs": [
    {
     "data": {
      "text/plain": [
       "'Study'"
      ]
     },
     "execution_count": 12,
     "metadata": {},
     "output_type": "execute_result"
    }
   ],
   "source": [
    "os.path.basename(r'C:/Users/Acer/Desktop/Study')"
   ]
  },
  {
   "cell_type": "markdown",
   "metadata": {},
   "source": [
    "Это очень полезная функция, особенно в тех случаях, когда нужно использовать имя файла для наименования того или иного связанного с работой файла, например лог-файл. Такая ситуация возникает часто при работе с файлами данных."
   ]
  },
  {
   "cell_type": "markdown",
   "metadata": {},
   "source": [
    "os.path.dirname\n",
    "Функция dirname возвращает только часть каталога пути. Это проще понять, если мы взглянем на пример кода:"
   ]
  },
  {
   "cell_type": "code",
   "execution_count": 13,
   "metadata": {},
   "outputs": [
    {
     "name": "stdout",
     "output_type": "stream",
     "text": [
      "C:/Users/Acer/Desktop\n"
     ]
    }
   ],
   "source": [
    "print(os.path.dirname(r'C:/Users/Acer/Desktop/Study'))"
   ]
  },
  {
   "cell_type": "markdown",
   "metadata": {},
   "source": [
    "В данном примере мы просто возвращаем путь к каталогу. Это также полезно, когда вам нужно сохранить другие файлы рядом с тем, который вы обрабатываете в данный момент. Как и в случае с лог-файлом, упомянутым выше."
   ]
  },
  {
   "cell_type": "markdown",
   "metadata": {},
   "source": [
    "Функция exists говорит нам, существует ли файл, или нет. Все что вам нужно, это указать ему путь. Её мы разбирали выше. "
   ]
  },
  {
   "cell_type": "markdown",
   "metadata": {},
   "source": [
    "os.path.isdir / os.path.isfile\n",
    "Методы isdir и isfile тесно связаны с методом exists, так как они также тестируют присутствие или отсутствие файлов или папок на тех или иных путях. Однако, isdir проверяет только пути к папкам, а isfile, соответственно, к файлам. Если вам нужно проверить путь, и не важно, папка это или файл, проще будет воспользоваться методом exists. В любом случае, взглянем на пару примеров:"
   ]
  },
  {
   "cell_type": "code",
   "execution_count": 14,
   "metadata": {},
   "outputs": [
    {
     "data": {
      "text/plain": [
       "False"
      ]
     },
     "execution_count": 14,
     "metadata": {},
     "output_type": "execute_result"
    }
   ],
   "source": [
    "os.path.isfile(r'C:/Users/Acer/Desktop/Study')"
   ]
  },
  {
   "cell_type": "code",
   "execution_count": 15,
   "metadata": {},
   "outputs": [
    {
     "data": {
      "text/plain": [
       "False"
      ]
     },
     "execution_count": 15,
     "metadata": {},
     "output_type": "execute_result"
    }
   ],
   "source": [
    "os.path.isdir(r'C:/Users/Acer/Desktop/xxx') "
   ]
  },
  {
   "cell_type": "code",
   "execution_count": 16,
   "metadata": {},
   "outputs": [
    {
     "data": {
      "text/plain": [
       "True"
      ]
     },
     "execution_count": 16,
     "metadata": {},
     "output_type": "execute_result"
    }
   ],
   "source": [
    "os.path.isdir(r'C:/Users/Acer/Desktop/Study 3 курс') \n"
   ]
  },
  {
   "cell_type": "code",
   "execution_count": 17,
   "metadata": {},
   "outputs": [
    {
     "data": {
      "text/plain": [
       "True"
      ]
     },
     "execution_count": 17,
     "metadata": {},
     "output_type": "execute_result"
    }
   ],
   "source": [
    "os.path.isfile(r'C:/Users/Acer/Desktop/камень.docx') "
   ]
  },
  {
   "cell_type": "markdown",
   "metadata": {},
   "source": [
    "os.path.join\n",
    "Метод join позволяет вам совместить несколько путей при помощи присвоенного разделителя. К примеру, в Windows, в роли разделителя выступает бэкслэш (косая черта, указывающая назад), однако в Linux функция разделителя присвоена косой черте, указывающей вперед (forward slash). Как это работает:"
   ]
  },
  {
   "cell_type": "code",
   "execution_count": 18,
   "metadata": {},
   "outputs": [
    {
     "name": "stdout",
     "output_type": "stream",
     "text": [
      "C:\\Python27\\Tools\\pynche\\ChipViewer.py\n"
     ]
    }
   ],
   "source": [
    "print(os.path.join(r'C:\\Python27\\Tools\\pynche', 'ChipViewer.py'))"
   ]
  },
  {
   "cell_type": "markdown",
   "metadata": {},
   "source": [
    "os.path.split\n",
    "Метод split разъединяет путь на кортеж, который содержит и файл и каталог. Взглянем на пример:"
   ]
  },
  {
   "cell_type": "code",
   "execution_count": 19,
   "metadata": {},
   "outputs": [
    {
     "name": "stdout",
     "output_type": "stream",
     "text": [
      "('C:\\\\Python27\\\\Tools\\\\pynche', 'ChipViewer.py')\n"
     ]
    }
   ],
   "source": [
    "print( os.path.split(r'C:\\Python27\\Tools\\pynche\\ChipViewer.py') )"
   ]
  },
  {
   "cell_type": "markdown",
   "metadata": {},
   "source": [
    "В данном примере показано, что происходит, когда мы указываем путь к файлу. Теперь взглянем на то, что происходит, если в конце пути нет названия файла:"
   ]
  },
  {
   "cell_type": "code",
   "execution_count": 20,
   "metadata": {},
   "outputs": [
    {
     "name": "stdout",
     "output_type": "stream",
     "text": [
      "('C:\\\\Python27\\\\Tools', 'pynche')\n"
     ]
    }
   ],
   "source": [
    "print( os.path.split(r'C:\\Python27\\Tools\\pynche') )"
   ]
  },
  {
   "cell_type": "markdown",
   "metadata": {},
   "source": [
    "Как видите, данная функция берет путь и разъединяет его таким образом, что подпапка стала вторым элементом кортежа с остальной частью пути в первом элементе. Напоследок, взглянем на бытовой случай использования split:"
   ]
  },
  {
   "cell_type": "code",
   "execution_count": 21,
   "metadata": {},
   "outputs": [
    {
     "name": "stdout",
     "output_type": "stream",
     "text": [
      "C:\\Python27\\Tools\\pynche\n"
     ]
    }
   ],
   "source": [
    "dirname, fname = os.path.split(r'C:\\Python27\\Tools\\pynche\\ChipViewer.py')\n",
    "print(dirname)"
   ]
  },
  {
   "cell_type": "code",
   "execution_count": 22,
   "metadata": {},
   "outputs": [
    {
     "name": "stdout",
     "output_type": "stream",
     "text": [
      "ChipViewer.py\n"
     ]
    }
   ],
   "source": [
    "print(fname)"
   ]
  },
  {
   "cell_type": "markdown",
   "metadata": {},
   "source": [
    "В данном примере указано, как сделать множественное назначение. Когда вы разъединяете путь, он становится кортежем, состоящим из двух частей. После того, как мы опробовали две переменные с левой части, первый элемент кортежа назначен к первой переменной, а второй элемент к второй переменной соответственно."
   ]
  },
  {
   "cell_type": "markdown",
   "metadata": {},
   "source": [
    "Подведем итоги\n",
    "С данного момента модуль os можно смело назвать старым добрым знакомым. В данном разделе мы научились:\n",
    "\n",
    "Работать со значениями среды;\n",
    "Создавать и удалять папки и файлы;\n",
    "Переименовывать папки и файлы;\n",
    "Открывать файл в соответствующей ему программе;\n",
    "Работать с путями.\n",
    "И это не полный список того, что можно делать при помощи модуля os."
   ]
  }
 ],
 "metadata": {
  "kernelspec": {
   "display_name": "Python 3",
   "language": "python",
   "name": "python3"
  },
  "language_info": {
   "codemirror_mode": {
    "name": "ipython",
    "version": 3
   },
   "file_extension": ".py",
   "mimetype": "text/x-python",
   "name": "python",
   "nbconvert_exporter": "python",
   "pygments_lexer": "ipython3",
   "version": "3.8.3"
  }
 },
 "nbformat": 4,
 "nbformat_minor": 4
}
